{
 "cells": [
  {
   "cell_type": "markdown",
   "id": "7b903e0b-e70b-4ad1-9b26-c9c87c1c163c",
   "metadata": {},
   "source": [
    "# Trap record sucess prediction\n",
    "\n",
    "The goal of this notebook is to construct a prediction of the page views a song can get on Genius, a website providing lyrics and their explanations for different songs. We recognize that maybe this is not an ideal metric for a sucess of a song, however we believe that for the purposes of purely academic inquiry, it should get the job done. \n",
    "\n",
    "The prediction will be based on features extracted from the lyrics of the songs in a traditional way i.e. by checing the length of the lyrics, number of unique words etc, as well as using topic modeling (LDA to be precise)."
   ]
  },
  {
   "cell_type": "code",
   "execution_count": 4,
   "id": "c3c28974",
   "metadata": {},
   "outputs": [],
   "source": [
    "import numpy as np\n",
    "import pandas as pd\n",
    "import matplotlib as plt\n",
    "import seaborn as sns\n",
    "from nltk.corpus import stopwords \n",
    "import json\n",
    "import pickle\n",
    "\n",
    "def save_object(obj, filename):\n",
    "    with open(filename, 'wb') as output:  # overwrites any existing file.\n",
    "        pickle.dump(obj, output, pickle.HIGHEST_PROTOCOL)"
   ]
  },
  {
   "cell_type": "code",
   "execution_count": 5,
   "id": "54746350",
   "metadata": {},
   "outputs": [],
   "source": [
    "import os\n",
    "#Get list of json files\n",
    "json_list = os.listdir('/Users/mkunstler/Desktop/WNE/ML2/projekt/json_files/')\n",
    "\n",
    "#Function to generate dataframe with song lyrics\n",
    "def create_artist_df(json_files_list):\n",
    "\n",
    "    #Loop through files\n",
    "    rows = []\n",
    "    for file in json_files_list:\n",
    "\n",
    "        #Open each file\n",
    "        f = open('json_files/{filename}'.format(filename=file))\n",
    "        data = json.load(f)\n",
    "\n",
    "        #Extract information we need\n",
    "\n",
    "        for song in data['songs']:\n",
    "            try:\n",
    "                rows.append({'artist':song['artist'], 'title':song['title'], 'lyrics':song['lyrics'], 'page_views':song['stats']['pageviews'], 'release_date':song['release_date']})\n",
    "            except:\n",
    "                rows.append({'artist':song['artist'], 'title':song['title'], 'lyrics':song['lyrics'], 'page_views':'', 'release_date':song['release_date']})\n",
    "\n",
    "\n",
    "    \n",
    "    artist_df = pd.DataFrame(rows, columns=['artist', 'title', 'lyrics', 'page_views', 'release_date'])\n",
    "    return artist_df\n",
    "\n",
    "artist_df = create_artist_df(json_list)"
   ]
  },
  {
   "cell_type": "code",
   "execution_count": 6,
   "id": "f7fe11e7",
   "metadata": {},
   "outputs": [
    {
     "data": {
      "text/html": [
       "<div>\n",
       "<style scoped>\n",
       "    .dataframe tbody tr th:only-of-type {\n",
       "        vertical-align: middle;\n",
       "    }\n",
       "\n",
       "    .dataframe tbody tr th {\n",
       "        vertical-align: top;\n",
       "    }\n",
       "\n",
       "    .dataframe thead th {\n",
       "        text-align: right;\n",
       "    }\n",
       "</style>\n",
       "<table border=\"1\" class=\"dataframe\">\n",
       "  <thead>\n",
       "    <tr style=\"text-align: right;\">\n",
       "      <th></th>\n",
       "      <th>artist</th>\n",
       "      <th>title</th>\n",
       "      <th>lyrics</th>\n",
       "      <th>page_views</th>\n",
       "      <th>release_date</th>\n",
       "      <th>original_lyrics</th>\n",
       "    </tr>\n",
       "  </thead>\n",
       "  <tbody>\n",
       "    <tr>\n",
       "      <th>0</th>\n",
       "      <td>Migos</td>\n",
       "      <td>Bad and Boujee</td>\n",
       "      <td>TranslationsPortuguêsРусскийItalianoAzərbaycan...</td>\n",
       "      <td>9397531</td>\n",
       "      <td>2016-08-27</td>\n",
       "      <td>TranslationsPortuguêsРусскийItalianoAzərbaycan...</td>\n",
       "    </tr>\n",
       "    <tr>\n",
       "      <th>1</th>\n",
       "      <td>Migos</td>\n",
       "      <td>Versace (Remix)</td>\n",
       "      <td>Versace (Remix) Lyrics[Intro: Drake &amp; Quavo]\\n...</td>\n",
       "      <td>2873846</td>\n",
       "      <td>2013-06-22</td>\n",
       "      <td>Versace (Remix) Lyrics[Intro: Drake &amp; Quavo]\\n...</td>\n",
       "    </tr>\n",
       "    <tr>\n",
       "      <th>2</th>\n",
       "      <td>Migos</td>\n",
       "      <td>T-Shirt</td>\n",
       "      <td>TranslationsPortuguêsT-Shirt Lyrics[Intro]\\nNa...</td>\n",
       "      <td>2771927</td>\n",
       "      <td>2017-01-06</td>\n",
       "      <td>TranslationsPortuguêsT-Shirt Lyrics[Intro]\\nNa...</td>\n",
       "    </tr>\n",
       "    <tr>\n",
       "      <th>3</th>\n",
       "      <td>Migos</td>\n",
       "      <td>Slippery</td>\n",
       "      <td>Slippery Lyrics[Intro]\\nDe-de-de-de-de-de-de-d...</td>\n",
       "      <td>2049464</td>\n",
       "      <td>2017-01-27</td>\n",
       "      <td>Slippery Lyrics[Intro]\\nDe-de-de-de-de-de-de-d...</td>\n",
       "    </tr>\n",
       "    <tr>\n",
       "      <th>4</th>\n",
       "      <td>Migos</td>\n",
       "      <td>Walk It Talk It</td>\n",
       "      <td>TranslationsMigos - Walk It Talk It ft. Drake ...</td>\n",
       "      <td>1521048</td>\n",
       "      <td>2018-01-26</td>\n",
       "      <td>TranslationsMigos - Walk It Talk It ft. Drake ...</td>\n",
       "    </tr>\n",
       "  </tbody>\n",
       "</table>\n",
       "</div>"
      ],
      "text/plain": [
       "  artist            title                                             lyrics  \\\n",
       "0  Migos   Bad and Boujee  TranslationsPortuguêsРусскийItalianoAzərbaycan...   \n",
       "1  Migos  Versace (Remix)  Versace (Remix) Lyrics[Intro: Drake & Quavo]\\n...   \n",
       "2  Migos          T-Shirt  TranslationsPortuguêsT-Shirt Lyrics[Intro]\\nNa...   \n",
       "3  Migos         Slippery  Slippery Lyrics[Intro]\\nDe-de-de-de-de-de-de-d...   \n",
       "4  Migos  Walk It Talk It  TranslationsMigos - Walk It Talk It ft. Drake ...   \n",
       "\n",
       "  page_views release_date                                    original_lyrics  \n",
       "0    9397531   2016-08-27  TranslationsPortuguêsРусскийItalianoAzərbaycan...  \n",
       "1    2873846   2013-06-22  Versace (Remix) Lyrics[Intro: Drake & Quavo]\\n...  \n",
       "2    2771927   2017-01-06  TranslationsPortuguêsT-Shirt Lyrics[Intro]\\nNa...  \n",
       "3    2049464   2017-01-27  Slippery Lyrics[Intro]\\nDe-de-de-de-de-de-de-d...  \n",
       "4    1521048   2018-01-26  TranslationsMigos - Walk It Talk It ft. Drake ...  "
      ]
     },
     "execution_count": 6,
     "metadata": {},
     "output_type": "execute_result"
    }
   ],
   "source": [
    "artist_df['original_lyrics'] = artist_df['lyrics']\n",
    "artist_df.head()"
   ]
  },
  {
   "cell_type": "code",
   "execution_count": 7,
   "id": "555ed0c1",
   "metadata": {},
   "outputs": [
    {
     "name": "stdout",
     "output_type": "stream",
     "text": [
      "Old endings: i)590Embed VS New endings:  (Lil Uzi)\n",
      "Old endings: ce235Embed VS New endings: ce Versace\n",
      "Old endings: ou183Embed VS New endings: a told you\n",
      "Old endings: ey)98Embed VS New endings:  hey, hey)\n",
      "Old endings: it103Embed VS New endings:  I talk it\n",
      "Old endings: f)103Embed VS New endings: ry (Wroof)\n",
      "Old endings: too62Embed VS New endings: ck out too\n",
      "Old endings: gle82Embed VS New endings: the jungle\n",
      "Old endings: cha48Embed VS New endings: ght witcha\n",
      "Old endings: ht158Embed VS New endings: ight night\n"
     ]
    }
   ],
   "source": [
    "import re\n",
    "def clean_txt(song):\n",
    "\n",
    "    #Remove unnecessary characters and first lines, as they contain information about translation which we don't need\n",
    "    song = ' '.join(song.split(\"\\n\")[1:])\n",
    "    song = re.sub(\"[\\[].*?[\\]]\", \"\", song)\n",
    "\n",
    "    #There are weird endings in the lyrics of each song, so we should remove them with regular expressions (up to 3 digid number + Embed)\n",
    "    song = re.sub('\\d{3}Embed$|\\d{2}Embed$|\\d{1}Embed$', '', song)\n",
    "    return song\n",
    "\n",
    "artist_df['lyrics'] = artist_df['original_lyrics'].apply(lambda x: clean_txt(x))\n",
    "\n",
    "#Check the new endings\n",
    "for i in range(10):\n",
    "    print('Old endings: ' + artist_df['original_lyrics'][i][-10:] + ' VS New endings: ' + artist_df['lyrics'][i][-10:])\n",
    "\n",
    "#It worked :)"
   ]
  },
  {
   "cell_type": "code",
   "execution_count": 8,
   "id": "8dbb2a56",
   "metadata": {},
   "outputs": [],
   "source": [
    "stop_words = set(stopwords.words('english'))\n",
    "\n",
    "def len_lyrics(song):\n",
    "    return len(song.split())\n",
    "\n",
    "def len_unique_lyrics(song):\n",
    "    return len(list(set(song.split())))\n",
    "\n",
    "def rmv_stop_words(song):\n",
    "    song = [w for w in song.split() if not w in stop_words] \n",
    "    return len(song)\n",
    "\n",
    "def rmv_set_stop_words(song):\n",
    "    song = [w for w in song.split() if not w in stop_words] \n",
    "    return len(list(set(song)))"
   ]
  },
  {
   "cell_type": "code",
   "execution_count": 9,
   "id": "21eab213",
   "metadata": {},
   "outputs": [],
   "source": [
    "artist_df['len_lyrics'] = artist_df['lyrics'].apply(lambda x: len_lyrics(x))\n",
    "artist_df['len_unique_lyrics'] = artist_df['lyrics'].apply(lambda x: len_unique_lyrics(x))\n",
    "artist_df['without_stop_words'] = artist_df['lyrics'].apply(lambda x: rmv_stop_words(x))\n",
    "artist_df['unique_without_stop_words'] = artist_df['lyrics'].apply(lambda x: rmv_set_stop_words(x))"
   ]
  },
  {
   "cell_type": "code",
   "execution_count": 10,
   "id": "ee71acec",
   "metadata": {},
   "outputs": [
    {
     "data": {
      "text/html": [
       "<div>\n",
       "<style scoped>\n",
       "    .dataframe tbody tr th:only-of-type {\n",
       "        vertical-align: middle;\n",
       "    }\n",
       "\n",
       "    .dataframe tbody tr th {\n",
       "        vertical-align: top;\n",
       "    }\n",
       "\n",
       "    .dataframe thead th {\n",
       "        text-align: right;\n",
       "    }\n",
       "</style>\n",
       "<table border=\"1\" class=\"dataframe\">\n",
       "  <thead>\n",
       "    <tr style=\"text-align: right;\">\n",
       "      <th></th>\n",
       "      <th>artist</th>\n",
       "      <th>title</th>\n",
       "      <th>lyrics</th>\n",
       "      <th>page_views</th>\n",
       "      <th>release_date</th>\n",
       "      <th>original_lyrics</th>\n",
       "      <th>len_lyrics</th>\n",
       "      <th>len_unique_lyrics</th>\n",
       "      <th>without_stop_words</th>\n",
       "      <th>unique_without_stop_words</th>\n",
       "    </tr>\n",
       "  </thead>\n",
       "  <tbody>\n",
       "    <tr>\n",
       "      <th>0</th>\n",
       "      <td>Migos</td>\n",
       "      <td>Bad and Boujee</td>\n",
       "      <td>You know, young rich niggas You know somethin'...</td>\n",
       "      <td>9397531</td>\n",
       "      <td>2016-08-27</td>\n",
       "      <td>TranslationsPortuguêsРусскийItalianoAzərbaycan...</td>\n",
       "      <td>1231</td>\n",
       "      <td>461</td>\n",
       "      <td>850</td>\n",
       "      <td>415</td>\n",
       "    </tr>\n",
       "    <tr>\n",
       "      <th>1</th>\n",
       "      <td>Migos</td>\n",
       "      <td>Versace (Remix)</td>\n",
       "      <td>(Zaytoven) Yeah Oh shit, man, who that is? Sho...</td>\n",
       "      <td>2873846</td>\n",
       "      <td>2013-06-22</td>\n",
       "      <td>Versace (Remix) Lyrics[Intro: Drake &amp; Quavo]\\n...</td>\n",
       "      <td>808</td>\n",
       "      <td>381</td>\n",
       "      <td>565</td>\n",
       "      <td>331</td>\n",
       "    </tr>\n",
       "    <tr>\n",
       "      <th>2</th>\n",
       "      <td>Migos</td>\n",
       "      <td>T-Shirt</td>\n",
       "      <td>Nard &amp; B TrenchWerk  (Ayy) Mama told me (Ayy) ...</td>\n",
       "      <td>2771927</td>\n",
       "      <td>2017-01-06</td>\n",
       "      <td>TranslationsPortuguêsT-Shirt Lyrics[Intro]\\nNa...</td>\n",
       "      <td>585</td>\n",
       "      <td>272</td>\n",
       "      <td>427</td>\n",
       "      <td>232</td>\n",
       "    </tr>\n",
       "    <tr>\n",
       "      <th>3</th>\n",
       "      <td>Migos</td>\n",
       "      <td>Slippery</td>\n",
       "      <td>De-de-de-de-de-de-de-de-Deko OG Parker   Pop a...</td>\n",
       "      <td>2049464</td>\n",
       "      <td>2017-01-27</td>\n",
       "      <td>Slippery Lyrics[Intro]\\nDe-de-de-de-de-de-de-d...</td>\n",
       "      <td>870</td>\n",
       "      <td>419</td>\n",
       "      <td>650</td>\n",
       "      <td>380</td>\n",
       "    </tr>\n",
       "    <tr>\n",
       "      <th>4</th>\n",
       "      <td>Migos</td>\n",
       "      <td>Walk It Talk It</td>\n",
       "      <td>Yeah, yeah (Deko) Woah, hold on (OG Parker) Uh...</td>\n",
       "      <td>1521048</td>\n",
       "      <td>2018-01-26</td>\n",
       "      <td>TranslationsMigos - Walk It Talk It ft. Drake ...</td>\n",
       "      <td>1169</td>\n",
       "      <td>335</td>\n",
       "      <td>853</td>\n",
       "      <td>294</td>\n",
       "    </tr>\n",
       "  </tbody>\n",
       "</table>\n",
       "</div>"
      ],
      "text/plain": [
       "  artist            title                                             lyrics  \\\n",
       "0  Migos   Bad and Boujee  You know, young rich niggas You know somethin'...   \n",
       "1  Migos  Versace (Remix)  (Zaytoven) Yeah Oh shit, man, who that is? Sho...   \n",
       "2  Migos          T-Shirt  Nard & B TrenchWerk  (Ayy) Mama told me (Ayy) ...   \n",
       "3  Migos         Slippery  De-de-de-de-de-de-de-de-Deko OG Parker   Pop a...   \n",
       "4  Migos  Walk It Talk It  Yeah, yeah (Deko) Woah, hold on (OG Parker) Uh...   \n",
       "\n",
       "  page_views release_date                                    original_lyrics  \\\n",
       "0    9397531   2016-08-27  TranslationsPortuguêsРусскийItalianoAzərbaycan...   \n",
       "1    2873846   2013-06-22  Versace (Remix) Lyrics[Intro: Drake & Quavo]\\n...   \n",
       "2    2771927   2017-01-06  TranslationsPortuguêsT-Shirt Lyrics[Intro]\\nNa...   \n",
       "3    2049464   2017-01-27  Slippery Lyrics[Intro]\\nDe-de-de-de-de-de-de-d...   \n",
       "4    1521048   2018-01-26  TranslationsMigos - Walk It Talk It ft. Drake ...   \n",
       "\n",
       "   len_lyrics  len_unique_lyrics  without_stop_words  \\\n",
       "0        1231                461                 850   \n",
       "1         808                381                 565   \n",
       "2         585                272                 427   \n",
       "3         870                419                 650   \n",
       "4        1169                335                 853   \n",
       "\n",
       "   unique_without_stop_words  \n",
       "0                        415  \n",
       "1                        331  \n",
       "2                        232  \n",
       "3                        380  \n",
       "4                        294  "
      ]
     },
     "execution_count": 10,
     "metadata": {},
     "output_type": "execute_result"
    }
   ],
   "source": [
    "artist_df.head()"
   ]
  },
  {
   "cell_type": "code",
   "execution_count": 11,
   "id": "fd12cd7d",
   "metadata": {},
   "outputs": [],
   "source": [
    "#Counting long words in the songs. For the purposes of this analysis a long word is said to have 8 or more letters.\n",
    "#The criterion is mostly arbitrary, but we believe these words should mostly have 3 syllables or more\n",
    "\n",
    "def count_long_words(df):\n",
    "    def count_long_words_in_string(s):\n",
    "        return len([w for w in s.split() if len(w.strip('()')) > 7])\n",
    "    df['long_words_count'] = df['lyrics'].apply(count_long_words_in_string)\n",
    "    return df\n",
    "\n",
    "artist_df = count_long_words(artist_df)"
   ]
  },
  {
   "cell_type": "code",
   "execution_count": 12,
   "id": "403bf602",
   "metadata": {},
   "outputs": [],
   "source": [
    "#Counting the number of ad-libs in the song\n",
    "def count_open_parentheses(df):\n",
    "    df['adlib_count'] = df['lyrics'].apply(lambda x: x.count('('))\n",
    "    return df\n",
    "\n",
    "artist_df = count_open_parentheses(artist_df)"
   ]
  },
  {
   "cell_type": "code",
   "execution_count": 13,
   "id": "c78df399",
   "metadata": {},
   "outputs": [],
   "source": [
    "def avg_word_length(df):\n",
    "    def avg_word_length_in_string(s):\n",
    "        words = [w for w in s.split() if '(' not in w and ')' not in w]\n",
    "        total_length = sum(len(w) for w in words)\n",
    "        return total_length / len(words) if words else 0\n",
    "    df['avg_word_length'] = df['lyrics'].apply(avg_word_length_in_string)\n",
    "    return df\n",
    "\n",
    "artist_df = avg_word_length(artist_df)"
   ]
  },
  {
   "cell_type": "code",
   "execution_count": 14,
   "id": "f843e9bf",
   "metadata": {},
   "outputs": [],
   "source": [
    "def stop_word_ratio(df):\n",
    "    df['stop_word_ratio'] = (df['len_lyrics'] - df['without_stop_words']) / df['len_lyrics']\n",
    "    return df\n",
    "\n",
    "artist_df = stop_word_ratio(artist_df)"
   ]
  },
  {
   "cell_type": "code",
   "execution_count": 15,
   "id": "68015591",
   "metadata": {},
   "outputs": [],
   "source": [
    "def unique_words_per_word(df):\n",
    "    df['unique_word_per_word'] =  df['len_unique_lyrics'] / df['len_lyrics']\n",
    "    return df\n",
    "\n",
    "artist_df = unique_words_per_word(artist_df)"
   ]
  },
  {
   "cell_type": "markdown",
   "id": "73dad6d5-47ea-4a7a-9631-8515b7c127d9",
   "metadata": {},
   "source": [
    "Below, the features are standardized within each artist, meaning that the standarization occurs after dividing the dataframe into seprate ones, each containing one artist, and before merging the dataframes back together (this not tecnically how it is happening, but we find this description more intuitive and it leads to the same results)."
   ]
  },
  {
   "cell_type": "code",
   "execution_count": 16,
   "id": "0e7aa0fe",
   "metadata": {},
   "outputs": [],
   "source": [
    "def calculate_stats_by_group(df, value_column):\n",
    "    df[value_column] = pd.to_numeric(df[value_column])\n",
    "    # Group the dataframe by the \"artist\" column\n",
    "    grouped = df.groupby('artist')\n",
    "    \n",
    "    # Calculate the average and standard deviation of the values in the chosen column\n",
    "    avg = grouped[value_column].mean()\n",
    "    std = grouped[value_column].std()\n",
    "    \n",
    "    # Merge the resulting dataframes back into the original dataframe\n",
    "    df = df.merge(avg.reset_index(), on='artist', suffixes=('', '_avg'))\n",
    "    df = df.merge(std.reset_index(), on='artist', suffixes=('', '_std'))\n",
    "    \n",
    "    # Calculate the number of standard deviations away from the average for each value\n",
    "    df[f'{value_column}_standardized'] = (df[value_column] - df[f'{value_column}_avg']) / df[f'{value_column}_std']\n",
    "    \n",
    "    df.drop(f'{value_column}_std', inplace=True, axis = 1)\n",
    "    df.drop(f'{value_column}_avg', inplace=True, axis = 1)\n",
    "    return df"
   ]
  },
  {
   "cell_type": "code",
   "execution_count": 17,
   "id": "398b338b",
   "metadata": {},
   "outputs": [
    {
     "name": "stdout",
     "output_type": "stream",
     "text": [
      "len_lyrics\n",
      "len_unique_lyrics\n",
      "without_stop_words\n",
      "unique_without_stop_words\n",
      "long_words_count\n",
      "adlib_count\n",
      "avg_word_length\n",
      "stop_word_ratio\n",
      "unique_word_per_word\n"
     ]
    }
   ],
   "source": [
    "# Transforming the features\n",
    "fet_cols_orig = ['len_lyrics', 'len_unique_lyrics', 'without_stop_words', 'unique_without_stop_words', \n",
    "                 'long_words_count', 'adlib_count', 'avg_word_length', 'stop_word_ratio', 'unique_word_per_word']\n",
    "\n",
    "for col in range(len(fet_cols_orig)):\n",
    "    print(fet_cols_orig[col])\n",
    "    artist_df = calculate_stats_by_group(artist_df, fet_cols_orig[col])\n",
    "    artist_df.drop(fet_cols_orig[col], inplace=True, axis = 1)\n",
    "    \n",
    "# And the label\n",
    "artist_df = calculate_stats_by_group(artist_df, 'page_views')"
   ]
  },
  {
   "cell_type": "code",
   "execution_count": 18,
   "id": "0399ee44",
   "metadata": {},
   "outputs": [
    {
     "data": {
      "text/html": [
       "<div>\n",
       "<style scoped>\n",
       "    .dataframe tbody tr th:only-of-type {\n",
       "        vertical-align: middle;\n",
       "    }\n",
       "\n",
       "    .dataframe tbody tr th {\n",
       "        vertical-align: top;\n",
       "    }\n",
       "\n",
       "    .dataframe thead th {\n",
       "        text-align: right;\n",
       "    }\n",
       "</style>\n",
       "<table border=\"1\" class=\"dataframe\">\n",
       "  <thead>\n",
       "    <tr style=\"text-align: right;\">\n",
       "      <th></th>\n",
       "      <th>artist</th>\n",
       "      <th>title</th>\n",
       "      <th>lyrics</th>\n",
       "      <th>page_views</th>\n",
       "      <th>release_date</th>\n",
       "      <th>original_lyrics</th>\n",
       "      <th>len_lyrics_standardized</th>\n",
       "      <th>len_unique_lyrics_standardized</th>\n",
       "      <th>without_stop_words_standardized</th>\n",
       "      <th>unique_without_stop_words_standardized</th>\n",
       "      <th>long_words_count_standardized</th>\n",
       "      <th>adlib_count_standardized</th>\n",
       "      <th>avg_word_length_standardized</th>\n",
       "      <th>stop_word_ratio_standardized</th>\n",
       "      <th>unique_word_per_word_standardized</th>\n",
       "      <th>page_views_standardized</th>\n",
       "    </tr>\n",
       "  </thead>\n",
       "  <tbody>\n",
       "    <tr>\n",
       "      <th>0</th>\n",
       "      <td>Migos</td>\n",
       "      <td>Bad and Boujee</td>\n",
       "      <td>You know, young rich niggas You know somethin'...</td>\n",
       "      <td>9397531.0</td>\n",
       "      <td>2016-08-27</td>\n",
       "      <td>TranslationsPortuguêsРусскийItalianoAzərbaycan...</td>\n",
       "      <td>2.219073</td>\n",
       "      <td>1.856665</td>\n",
       "      <td>2.156433</td>\n",
       "      <td>1.916397</td>\n",
       "      <td>1.423906</td>\n",
       "      <td>2.140562</td>\n",
       "      <td>-0.136579</td>\n",
       "      <td>0.228606</td>\n",
       "      <td>-0.312699</td>\n",
       "      <td>3.923808</td>\n",
       "    </tr>\n",
       "    <tr>\n",
       "      <th>1</th>\n",
       "      <td>Migos</td>\n",
       "      <td>Versace (Remix)</td>\n",
       "      <td>(Zaytoven) Yeah Oh shit, man, who that is? Sho...</td>\n",
       "      <td>2873846.0</td>\n",
       "      <td>2013-06-22</td>\n",
       "      <td>Versace (Remix) Lyrics[Intro: Drake &amp; Quavo]\\n...</td>\n",
       "      <td>0.020273</td>\n",
       "      <td>0.842441</td>\n",
       "      <td>0.012413</td>\n",
       "      <td>0.783950</td>\n",
       "      <td>2.610494</td>\n",
       "      <td>-1.092508</td>\n",
       "      <td>1.142537</td>\n",
       "      <td>0.079310</td>\n",
       "      <td>1.192843</td>\n",
       "      <td>0.729994</td>\n",
       "    </tr>\n",
       "    <tr>\n",
       "      <th>2</th>\n",
       "      <td>Migos</td>\n",
       "      <td>T-Shirt</td>\n",
       "      <td>Nard &amp; B TrenchWerk  (Ayy) Mama told me (Ayy) ...</td>\n",
       "      <td>2771927.0</td>\n",
       "      <td>2017-01-06</td>\n",
       "      <td>TranslationsPortuguêsT-Shirt Lyrics[Intro]\\nNa...</td>\n",
       "      <td>-1.138906</td>\n",
       "      <td>-0.539441</td>\n",
       "      <td>-1.025744</td>\n",
       "      <td>-0.550720</td>\n",
       "      <td>-0.806880</td>\n",
       "      <td>0.254604</td>\n",
       "      <td>0.575966</td>\n",
       "      <td>-0.443064</td>\n",
       "      <td>1.090800</td>\n",
       "      <td>0.680097</td>\n",
       "    </tr>\n",
       "    <tr>\n",
       "      <th>3</th>\n",
       "      <td>Migos</td>\n",
       "      <td>Slippery</td>\n",
       "      <td>De-de-de-de-de-de-de-de-Deko OG Parker   Pop a...</td>\n",
       "      <td>2049464.0</td>\n",
       "      <td>2017-01-27</td>\n",
       "      <td>Slippery Lyrics[Intro]\\nDe-de-de-de-de-de-de-d...</td>\n",
       "      <td>0.342555</td>\n",
       "      <td>1.324197</td>\n",
       "      <td>0.651857</td>\n",
       "      <td>1.444544</td>\n",
       "      <td>0.284781</td>\n",
       "      <td>1.062872</td>\n",
       "      <td>0.047086</td>\n",
       "      <td>-0.736341</td>\n",
       "      <td>1.349142</td>\n",
       "      <td>0.326400</td>\n",
       "    </tr>\n",
       "    <tr>\n",
       "      <th>4</th>\n",
       "      <td>Migos</td>\n",
       "      <td>Walk It Talk It</td>\n",
       "      <td>Yeah, yeah (Deko) Woah, hold on (OG Parker) Uh...</td>\n",
       "      <td>1521048.0</td>\n",
       "      <td>2018-01-26</td>\n",
       "      <td>TranslationsMigos - Walk It Talk It ft. Drake ...</td>\n",
       "      <td>1.896790</td>\n",
       "      <td>0.259261</td>\n",
       "      <td>2.179001</td>\n",
       "      <td>0.285134</td>\n",
       "      <td>-0.806880</td>\n",
       "      <td>1.035930</td>\n",
       "      <td>-2.340890</td>\n",
       "      <td>-0.439127</td>\n",
       "      <td>-1.676754</td>\n",
       "      <td>0.067702</td>\n",
       "    </tr>\n",
       "  </tbody>\n",
       "</table>\n",
       "</div>"
      ],
      "text/plain": [
       "  artist            title                                             lyrics  \\\n",
       "0  Migos   Bad and Boujee  You know, young rich niggas You know somethin'...   \n",
       "1  Migos  Versace (Remix)  (Zaytoven) Yeah Oh shit, man, who that is? Sho...   \n",
       "2  Migos          T-Shirt  Nard & B TrenchWerk  (Ayy) Mama told me (Ayy) ...   \n",
       "3  Migos         Slippery  De-de-de-de-de-de-de-de-Deko OG Parker   Pop a...   \n",
       "4  Migos  Walk It Talk It  Yeah, yeah (Deko) Woah, hold on (OG Parker) Uh...   \n",
       "\n",
       "   page_views release_date                                    original_lyrics  \\\n",
       "0   9397531.0   2016-08-27  TranslationsPortuguêsРусскийItalianoAzərbaycan...   \n",
       "1   2873846.0   2013-06-22  Versace (Remix) Lyrics[Intro: Drake & Quavo]\\n...   \n",
       "2   2771927.0   2017-01-06  TranslationsPortuguêsT-Shirt Lyrics[Intro]\\nNa...   \n",
       "3   2049464.0   2017-01-27  Slippery Lyrics[Intro]\\nDe-de-de-de-de-de-de-d...   \n",
       "4   1521048.0   2018-01-26  TranslationsMigos - Walk It Talk It ft. Drake ...   \n",
       "\n",
       "   len_lyrics_standardized  len_unique_lyrics_standardized  \\\n",
       "0                 2.219073                        1.856665   \n",
       "1                 0.020273                        0.842441   \n",
       "2                -1.138906                       -0.539441   \n",
       "3                 0.342555                        1.324197   \n",
       "4                 1.896790                        0.259261   \n",
       "\n",
       "   without_stop_words_standardized  unique_without_stop_words_standardized  \\\n",
       "0                         2.156433                                1.916397   \n",
       "1                         0.012413                                0.783950   \n",
       "2                        -1.025744                               -0.550720   \n",
       "3                         0.651857                                1.444544   \n",
       "4                         2.179001                                0.285134   \n",
       "\n",
       "   long_words_count_standardized  adlib_count_standardized  \\\n",
       "0                       1.423906                  2.140562   \n",
       "1                       2.610494                 -1.092508   \n",
       "2                      -0.806880                  0.254604   \n",
       "3                       0.284781                  1.062872   \n",
       "4                      -0.806880                  1.035930   \n",
       "\n",
       "   avg_word_length_standardized  stop_word_ratio_standardized  \\\n",
       "0                     -0.136579                      0.228606   \n",
       "1                      1.142537                      0.079310   \n",
       "2                      0.575966                     -0.443064   \n",
       "3                      0.047086                     -0.736341   \n",
       "4                     -2.340890                     -0.439127   \n",
       "\n",
       "   unique_word_per_word_standardized  page_views_standardized  \n",
       "0                          -0.312699                 3.923808  \n",
       "1                           1.192843                 0.729994  \n",
       "2                           1.090800                 0.680097  \n",
       "3                           1.349142                 0.326400  \n",
       "4                          -1.676754                 0.067702  "
      ]
     },
     "execution_count": 18,
     "metadata": {},
     "output_type": "execute_result"
    }
   ],
   "source": [
    "artist_df.head()"
   ]
  },
  {
   "cell_type": "code",
   "execution_count": 28,
   "id": "fa2ac998-f224-47a3-9408-3dc4f6497c3b",
   "metadata": {},
   "outputs": [],
   "source": [
    "import nltk\n",
    "from nltk.corpus import stopwords \n",
    "from nltk.tokenize import word_tokenize \n",
    "import matplotlib.pyplot as plt\n",
    "import seaborn as sns\n",
    "import sklearn\n",
    "from sklearn.feature_extraction.text import CountVectorizer, TfidfVectorizer\n",
    "from sklearn.decomposition import LatentDirichletAllocation\n",
    "from nltk.stem import PorterStemmer\n",
    "from nltk.stem.wordnet import WordNetLemmatizer\n",
    "from nltk.tokenize import RegexpTokenizer\n",
    "import string\n",
    "import spacy\n",
    "import torch\n",
    "import transformers \n",
    "\n",
    "import gensim\n",
    "from gensim import corpora # for: Dictionary(), word2bow()\n",
    "from gensim import models # for: TfidfModel()\n",
    "\n",
    "import math"
   ]
  },
  {
   "cell_type": "code",
   "execution_count": 20,
   "id": "b892393e-db4c-45d5-b5b3-2c092a8b3cd6",
   "metadata": {},
   "outputs": [],
   "source": [
    "#!python -m spacy download en"
   ]
  },
  {
   "cell_type": "code",
   "execution_count": 21,
   "id": "13e635b0-8640-4379-b1c5-619e32157aaa",
   "metadata": {},
   "outputs": [],
   "source": [
    "nlp = spacy.load('en_core_web_sm')\n",
    "\n",
    "def clean_string(text, stem=\"None\"):\n",
    "\n",
    "    final_string = \"\"\n",
    "\n",
    "    # Make lower\n",
    "    text = text.lower()\n",
    "\n",
    "    # Remove line breaks\n",
    "    text = re.sub(r'\\n', '', text)\n",
    "\n",
    "    # Remove puncuation\n",
    "    translator = str.maketrans('', '', string.punctuation)\n",
    "    text = text.translate(translator)\n",
    "\n",
    "    # Remove stop words\n",
    "    text = text.split()\n",
    "    useless_words = nltk.corpus.stopwords.words(\"english\")\n",
    "    #Add further words that do not carry much meaning, yet they are quite frequently used in songs\n",
    "    useless_words = useless_words + ['ooh', 'oh', 'wow', 'nigga', 'niggas', 'yeah', 'huh', 'woo', 'ayy', 'em', 'woah', 'ya', 'ow', 'ah', 'trap', 'uh']\n",
    "\n",
    "    text_filtered = [word for word in text if not word in useless_words]\n",
    "\n",
    "    # Remove numbers\n",
    "    text_filtered = [re.sub(r'\\w*\\d\\w*', '', w) for w in text_filtered]\n",
    "\n",
    "    # Stem or Lemmatize\n",
    "    if stem == 'Stem':\n",
    "        stemmer = PorterStemmer() \n",
    "        text_stemmed = [stemmer.stem(y) for y in text_filtered]\n",
    "    elif stem == 'Lem':\n",
    "        lem = WordNetLemmatizer()\n",
    "        text_stemmed = [lem.lemmatize(y) for y in text_filtered]\n",
    "    elif stem == 'Spacy':\n",
    "        text_filtered = nlp(' '.join(text_filtered))\n",
    "        text_stemmed = [y.lemma_ for y in text_filtered]\n",
    "    else:\n",
    "        text_stemmed = text_filtered\n",
    "\n",
    "    final_string = ' '.join(text_stemmed)\n",
    "\n",
    "    return final_string\n",
    "\n",
    "#Clean songs with our cleaning function\n",
    "artist_df['clean_songs'] = artist_df.lyrics.apply(lambda x: clean_string(text = x, stem = 'Lem'))"
   ]
  },
  {
   "cell_type": "code",
   "execution_count": 22,
   "id": "90a2c240-db2d-4d7d-a0e0-165de978820f",
   "metadata": {},
   "outputs": [
    {
     "name": "stdout",
     "output_type": "stream",
     "text": [
      "Before cleaning: You know, young rich niggas You know somethin', we ain't really never had no old money We got a whole lotta new money though, hah (If Young Metro don't trust you, I'm gon' shoot you) Hey   Raindrop (Drip), drop-top (Drop-top) Smokin' on cookie in the hotbox (Cookie) Fuckin' on your bitch, she a thot, thot (Thot) Cookin' up dope in the crockpot (Pot) We came from nothin' to somethin', nigga (Hey) I don't trust nobody, grip the trigger (Nobody) Call up the gang and they come and get ya (Gang) Cry \n",
      "\n",
      "\n",
      "After cleaning: know young rich know somethin aint really never old money got whole lotta new money though hah young metro dont trust im gon shoot hey raindrop drip droptop droptop smokin cookie hotbox cookie fuckin bitch thot thot thot cookin dope crockpot pot came nothin somethin hey dont trust nobody grip trigger nobody call gang come get gang cry river give tissue hey bitch bad bougie bad cookin dope uzi blaow savage ruthless savage got  hundredrounds grrah bitch bad bougie bad cookin dope uzi dope savage r\n"
     ]
    }
   ],
   "source": [
    "#Compare song before and after cleaning\n",
    "print('Before cleaning: ' +  artist_df['lyrics'][0][:500])\n",
    "print('\\n\\nAfter cleaning: ' +  artist_df['clean_songs'][0][:500])"
   ]
  },
  {
   "cell_type": "code",
   "execution_count": 23,
   "id": "c93ef828-02f6-401a-a6b9-dec2499aabf6",
   "metadata": {},
   "outputs": [],
   "source": [
    "import warnings\n",
    "warnings.filterwarnings(\"ignore\") #ignoring popping up warnings\n",
    "\n",
    "tokenizer = RegexpTokenizer(r'\\w+') # tokenizer\n",
    "\n",
    "tf_vectorizer = CountVectorizer(ngram_range = (1, 3), #let us use unigrams for now, to make the calculations quicker\n",
    "                                max_df = 0.75, #filtering with document frequency\n",
    "                                min_df = 5/len(artist_df[\"clean_songs\"]), #filtering with document frequency\n",
    "                                tokenizer = tokenizer.tokenize\n",
    ")\n",
    "tf = tf_vectorizer.fit_transform(artist_df[\"clean_songs\"])\n",
    "tf_feature_names = tf_vectorizer.get_feature_names()"
   ]
  },
  {
   "cell_type": "code",
   "execution_count": 24,
   "id": "73907f7e-807f-44a3-9a1f-f6ddb92ba9c7",
   "metadata": {},
   "outputs": [],
   "source": [
    "def get_umass_score(dt_matrix, i, j):\n",
    "    zo_matrix = (dt_matrix > 0).astype(int)\n",
    "    col_i, col_j = zo_matrix[:, i], zo_matrix[:, j]\n",
    "    col_ij = col_i + col_j\n",
    "    col_ij = (col_ij == 2).astype(int)    \n",
    "    Di, Dij = col_i.sum(), col_ij.sum()    \n",
    "    return math.log((Dij + 1) / Di)\n",
    "\n",
    "def get_topic_coherence(dt_matrix, topic, n_top_words):\n",
    "    indexed_topic = zip(topic, range(0, len(topic)))\n",
    "    topic_top = sorted(indexed_topic, key=lambda x: 1 - x[0])[0:n_top_words]\n",
    "    coherence = 0\n",
    "    for j_index in range(0, len(topic_top)):\n",
    "        for i_index in range(0, j_index - 1):\n",
    "            i = topic_top[i_index][1]\n",
    "            j = topic_top[j_index][1]\n",
    "            coherence += get_umass_score(dt_matrix, i, j)\n",
    "    return coherence\n",
    "\n",
    "def get_average_topic_coherence(dt_matrix, topics, n_top_words):\n",
    "    total_coherence = 0\n",
    "    for i in range(0, len(topics)):\n",
    "        total_coherence += get_topic_coherence(dt_matrix, topics[i], n_top_words)\n",
    "    return total_coherence / len(topics)"
   ]
  },
  {
   "cell_type": "code",
   "execution_count": 29,
   "id": "cf8d003b-2df6-4b8c-8f71-04591992e722",
   "metadata": {},
   "outputs": [
    {
     "name": "stdout",
     "output_type": "stream",
     "text": [
      "Trying parameters: 2\n",
      "Trying parameters: 3\n",
      "Trying parameters: 4\n",
      "Trying parameters: 5\n",
      "Trying parameters: 6\n",
      "Trying parameters: 7\n",
      "Trying parameters: 8\n",
      "Trying parameters: 9\n",
      "Trying parameters: 10\n",
      "Trying parameters: 11\n",
      "Trying parameters: 12\n",
      "Trying parameters: 13\n",
      "Trying parameters: 14\n",
      "Trying parameters: 15\n",
      "Trying parameters: 16\n",
      "Trying parameters: 17\n",
      "Trying parameters: 18\n",
      "Trying parameters: 19\n",
      "Trying parameters: 20\n"
     ]
    }
   ],
   "source": [
    "warnings.filterwarnings(\"ignore\") #ignoring popping up warnings\n",
    "\n",
    "measures_specific = []\n",
    "\n",
    "for n_topics in range(2,21,1):\n",
    "    \n",
    "    print('Trying parameters:', n_topics)\n",
    "    \n",
    "    lda = LatentDirichletAllocation(n_components = n_topics, \n",
    "                                    learning_method = 'online',\n",
    "                                    learning_offset = 50.0,\n",
    "                                    max_iter = 5, \n",
    "                                    random_state = 42)\n",
    "                \n",
    "    lda.fit(tf)\n",
    "    \n",
    "    avg_coherence = get_average_topic_coherence(tf, lda.components_, 25)\n",
    "\n",
    "    measures_specific.append([avg_coherence, n_topics])"
   ]
  },
  {
   "cell_type": "code",
   "execution_count": 36,
   "id": "e98b463d-2a8c-4bdb-a7ab-598f255731f1",
   "metadata": {},
   "outputs": [
    {
     "data": {
      "text/html": [
       "<div>\n",
       "<style scoped>\n",
       "    .dataframe tbody tr th:only-of-type {\n",
       "        vertical-align: middle;\n",
       "    }\n",
       "\n",
       "    .dataframe tbody tr th {\n",
       "        vertical-align: top;\n",
       "    }\n",
       "\n",
       "    .dataframe thead th {\n",
       "        text-align: right;\n",
       "    }\n",
       "</style>\n",
       "<table border=\"1\" class=\"dataframe\">\n",
       "  <thead>\n",
       "    <tr style=\"text-align: right;\">\n",
       "      <th></th>\n",
       "      <th>avg_coherence</th>\n",
       "      <th>n_topics</th>\n",
       "    </tr>\n",
       "  </thead>\n",
       "  <tbody>\n",
       "    <tr>\n",
       "      <th>0</th>\n",
       "      <td>-226.932830</td>\n",
       "      <td>2</td>\n",
       "    </tr>\n",
       "    <tr>\n",
       "      <th>1</th>\n",
       "      <td>-289.394881</td>\n",
       "      <td>3</td>\n",
       "    </tr>\n",
       "    <tr>\n",
       "      <th>2</th>\n",
       "      <td>-347.107093</td>\n",
       "      <td>4</td>\n",
       "    </tr>\n",
       "    <tr>\n",
       "      <th>4</th>\n",
       "      <td>-364.901382</td>\n",
       "      <td>6</td>\n",
       "    </tr>\n",
       "    <tr>\n",
       "      <th>3</th>\n",
       "      <td>-369.071842</td>\n",
       "      <td>5</td>\n",
       "    </tr>\n",
       "    <tr>\n",
       "      <th>6</th>\n",
       "      <td>-379.071112</td>\n",
       "      <td>8</td>\n",
       "    </tr>\n",
       "    <tr>\n",
       "      <th>8</th>\n",
       "      <td>-394.236965</td>\n",
       "      <td>10</td>\n",
       "    </tr>\n",
       "    <tr>\n",
       "      <th>5</th>\n",
       "      <td>-394.816114</td>\n",
       "      <td>7</td>\n",
       "    </tr>\n",
       "    <tr>\n",
       "      <th>7</th>\n",
       "      <td>-395.861588</td>\n",
       "      <td>9</td>\n",
       "    </tr>\n",
       "  </tbody>\n",
       "</table>\n",
       "</div>"
      ],
      "text/plain": [
       "   avg_coherence  n_topics\n",
       "0    -226.932830         2\n",
       "1    -289.394881         3\n",
       "2    -347.107093         4\n",
       "4    -364.901382         6\n",
       "3    -369.071842         5\n",
       "6    -379.071112         8\n",
       "8    -394.236965        10\n",
       "5    -394.816114         7\n",
       "7    -395.861588         9"
      ]
     },
     "execution_count": 36,
     "metadata": {},
     "output_type": "execute_result"
    }
   ],
   "source": [
    "measures_specific_df_lda = pd.DataFrame(measures_specific)\n",
    "measures_specific_df_lda.columns = ['avg_coherence', 'n_topics']\n",
    "\n",
    "\n",
    "measures_specific_df_lda.sort_values('avg_coherence', ascending = False).iloc[0:9,:]"
   ]
  },
  {
   "cell_type": "markdown",
   "id": "a6d4973a-599d-4dcd-a4cd-af9ac00ad36b",
   "metadata": {},
   "source": [
    "We choose 6 topics, because it has relatively high average topic coherence, while having more than 5 topics which we wanted to provide the models with more variables and to extract all different topics."
   ]
  },
  {
   "cell_type": "code",
   "execution_count": 37,
   "id": "f147927a-0afc-4f2b-beba-d341e20ea9ca",
   "metadata": {},
   "outputs": [
    {
     "name": "stdout",
     "output_type": "stream",
     "text": [
      "Topic 0:  ['love', 'time', 'cant', 'want', 'aint', 'take', 'feel', 'back', 'cause', 'gotta']\n",
      "Topic 1:  ['baby', 'dope', 'young', 'move', 'let', 'versace', 'call', 'go', 'house', 'fuck']\n",
      "Topic 2:  ['money', 'aint', 'lot', 'shit', 'pain', 'many', 'numb', 'go', 'hey', 'fuck']\n",
      "Topic 3:  ['let', 'drunk', 'skrt', 'let know', 'dawg', 'know let', 'wan', 'right', 'high', 'killin']\n",
      "Topic 4:  ['bitch', 'shit', 'as', 'gang', 'fuck', 'aint', 'boy', 'god', 'lil', 'talk']\n",
      "Topic 5:  ['bitch', 'aint', 'go', 'fuck', 'put', 'night', 'gon', 'straight', 'make', 'hey']\n"
     ]
    }
   ],
   "source": [
    "lda = LatentDirichletAllocation(n_components = 6,\n",
    "                                learning_method = 'online', \n",
    "                                learning_offset = 10.0,\n",
    "                                max_iter = 50, \n",
    "                                random_state = 12)\n",
    "lda.fit(tf) # tfi\n",
    "\n",
    "topics_lists = []\n",
    "\n",
    "for index, component in enumerate(lda.components_): #taking model's components \n",
    "                                                    #(values from reconstructed Document-Term Matrix)\n",
    "    zipped = zip(tf_feature_names, component) #taking together tokens' names with components\n",
    "    top_terms_key=sorted(zipped, key = lambda t: t[1], reverse=True)[:10] #top 10 terms per topic\n",
    "    top_terms_list=list(dict(top_terms_key).keys()) #taking only tokens, no weights\n",
    "    \n",
    "    topics_lists.append(top_terms_list)\n",
    "    print(\"Topic \"+str(index)+\": \",top_terms_list) #prints top 10 tokens per topic"
   ]
  },
  {
   "cell_type": "markdown",
   "id": "6ae30355-dd7a-40c0-a4e1-c4b9f99ee53e",
   "metadata": {},
   "source": [
    "- Topic 0: love\n",
    "- Topic 1: young life / hustle culture / drugs\n",
    "- Topic 2: money / the pains of richness\n",
    "- Topic 3: intoxication / recklessness\n",
    "- Topic 4: life in a gang\n",
    "- Topic 5: nightlife"
   ]
  },
  {
   "cell_type": "code",
   "execution_count": 38,
   "id": "4fd18d27-4c72-48ab-80af-605ca8139210",
   "metadata": {},
   "outputs": [
    {
     "data": {
      "text/html": [
       "<div>\n",
       "<style scoped>\n",
       "    .dataframe tbody tr th:only-of-type {\n",
       "        vertical-align: middle;\n",
       "    }\n",
       "\n",
       "    .dataframe tbody tr th {\n",
       "        vertical-align: top;\n",
       "    }\n",
       "\n",
       "    .dataframe thead th {\n",
       "        text-align: right;\n",
       "    }\n",
       "</style>\n",
       "<table border=\"1\" class=\"dataframe\">\n",
       "  <thead>\n",
       "    <tr style=\"text-align: right;\">\n",
       "      <th></th>\n",
       "      <th>0</th>\n",
       "      <th>1</th>\n",
       "      <th>2</th>\n",
       "      <th>3</th>\n",
       "      <th>4</th>\n",
       "      <th>5</th>\n",
       "    </tr>\n",
       "  </thead>\n",
       "  <tbody>\n",
       "    <tr>\n",
       "      <th>219</th>\n",
       "      <td>0.215851</td>\n",
       "      <td>0.000592</td>\n",
       "      <td>0.202768</td>\n",
       "      <td>0.000590</td>\n",
       "      <td>0.579608</td>\n",
       "      <td>0.000591</td>\n",
       "    </tr>\n",
       "    <tr>\n",
       "      <th>120</th>\n",
       "      <td>0.000548</td>\n",
       "      <td>0.757289</td>\n",
       "      <td>0.000548</td>\n",
       "      <td>0.000546</td>\n",
       "      <td>0.240522</td>\n",
       "      <td>0.000548</td>\n",
       "    </tr>\n",
       "    <tr>\n",
       "      <th>215</th>\n",
       "      <td>0.000495</td>\n",
       "      <td>0.000498</td>\n",
       "      <td>0.764669</td>\n",
       "      <td>0.000494</td>\n",
       "      <td>0.150546</td>\n",
       "      <td>0.083298</td>\n",
       "    </tr>\n",
       "    <tr>\n",
       "      <th>347</th>\n",
       "      <td>0.000572</td>\n",
       "      <td>0.000571</td>\n",
       "      <td>0.309150</td>\n",
       "      <td>0.000567</td>\n",
       "      <td>0.000571</td>\n",
       "      <td>0.688569</td>\n",
       "    </tr>\n",
       "    <tr>\n",
       "      <th>256</th>\n",
       "      <td>0.055954</td>\n",
       "      <td>0.663525</td>\n",
       "      <td>0.092009</td>\n",
       "      <td>0.000593</td>\n",
       "      <td>0.187320</td>\n",
       "      <td>0.000598</td>\n",
       "    </tr>\n",
       "    <tr>\n",
       "      <th>172</th>\n",
       "      <td>0.464292</td>\n",
       "      <td>0.000892</td>\n",
       "      <td>0.150242</td>\n",
       "      <td>0.000888</td>\n",
       "      <td>0.000892</td>\n",
       "      <td>0.382794</td>\n",
       "    </tr>\n",
       "    <tr>\n",
       "      <th>285</th>\n",
       "      <td>0.000762</td>\n",
       "      <td>0.000762</td>\n",
       "      <td>0.071799</td>\n",
       "      <td>0.000756</td>\n",
       "      <td>0.455972</td>\n",
       "      <td>0.469948</td>\n",
       "    </tr>\n",
       "    <tr>\n",
       "      <th>254</th>\n",
       "      <td>0.514953</td>\n",
       "      <td>0.418013</td>\n",
       "      <td>0.065162</td>\n",
       "      <td>0.000620</td>\n",
       "      <td>0.000627</td>\n",
       "      <td>0.000625</td>\n",
       "    </tr>\n",
       "    <tr>\n",
       "      <th>313</th>\n",
       "      <td>0.362268</td>\n",
       "      <td>0.000668</td>\n",
       "      <td>0.635077</td>\n",
       "      <td>0.000662</td>\n",
       "      <td>0.000664</td>\n",
       "      <td>0.000662</td>\n",
       "    </tr>\n",
       "    <tr>\n",
       "      <th>71</th>\n",
       "      <td>0.093873</td>\n",
       "      <td>0.057133</td>\n",
       "      <td>0.090434</td>\n",
       "      <td>0.000484</td>\n",
       "      <td>0.656897</td>\n",
       "      <td>0.101179</td>\n",
       "    </tr>\n",
       "  </tbody>\n",
       "</table>\n",
       "</div>"
      ],
      "text/plain": [
       "            0         1         2         3         4         5\n",
       "219  0.215851  0.000592  0.202768  0.000590  0.579608  0.000591\n",
       "120  0.000548  0.757289  0.000548  0.000546  0.240522  0.000548\n",
       "215  0.000495  0.000498  0.764669  0.000494  0.150546  0.083298\n",
       "347  0.000572  0.000571  0.309150  0.000567  0.000571  0.688569\n",
       "256  0.055954  0.663525  0.092009  0.000593  0.187320  0.000598\n",
       "172  0.464292  0.000892  0.150242  0.000888  0.000892  0.382794\n",
       "285  0.000762  0.000762  0.071799  0.000756  0.455972  0.469948\n",
       "254  0.514953  0.418013  0.065162  0.000620  0.000627  0.000625\n",
       "313  0.362268  0.000668  0.635077  0.000662  0.000664  0.000662\n",
       "71   0.093873  0.057133  0.090434  0.000484  0.656897  0.101179"
      ]
     },
     "execution_count": 38,
     "metadata": {},
     "output_type": "execute_result"
    }
   ],
   "source": [
    "df_topics_for_songs = pd.DataFrame(lda.transform(tf).tolist())\n",
    "\n",
    "df_topics_for_songs.sample(10)"
   ]
  },
  {
   "cell_type": "markdown",
   "id": "464c3521-6ab3-4d59-9135-000c940d69db",
   "metadata": {},
   "source": [
    "Finally, we have all of the features prepared"
   ]
  },
  {
   "cell_type": "code",
   "execution_count": 39,
   "id": "aaf23c13-4c06-4811-ae17-3d882e2b2b1e",
   "metadata": {},
   "outputs": [
    {
     "data": {
      "text/html": [
       "<div>\n",
       "<style scoped>\n",
       "    .dataframe tbody tr th:only-of-type {\n",
       "        vertical-align: middle;\n",
       "    }\n",
       "\n",
       "    .dataframe tbody tr th {\n",
       "        vertical-align: top;\n",
       "    }\n",
       "\n",
       "    .dataframe thead th {\n",
       "        text-align: right;\n",
       "    }\n",
       "</style>\n",
       "<table border=\"1\" class=\"dataframe\">\n",
       "  <thead>\n",
       "    <tr style=\"text-align: right;\">\n",
       "      <th></th>\n",
       "      <th>artist</th>\n",
       "      <th>title</th>\n",
       "      <th>lyrics</th>\n",
       "      <th>page_views</th>\n",
       "      <th>release_date</th>\n",
       "      <th>original_lyrics</th>\n",
       "      <th>len_lyrics_standardized</th>\n",
       "      <th>len_unique_lyrics_standardized</th>\n",
       "      <th>without_stop_words_standardized</th>\n",
       "      <th>unique_without_stop_words_standardized</th>\n",
       "      <th>...</th>\n",
       "      <th>stop_word_ratio_standardized</th>\n",
       "      <th>unique_word_per_word_standardized</th>\n",
       "      <th>page_views_standardized</th>\n",
       "      <th>clean_songs</th>\n",
       "      <th>Topic_0</th>\n",
       "      <th>Topic_1</th>\n",
       "      <th>Topic_2</th>\n",
       "      <th>Topic_3</th>\n",
       "      <th>Topic_4</th>\n",
       "      <th>Topic_5</th>\n",
       "    </tr>\n",
       "  </thead>\n",
       "  <tbody>\n",
       "    <tr>\n",
       "      <th>0</th>\n",
       "      <td>Migos</td>\n",
       "      <td>Bad and Boujee</td>\n",
       "      <td>You know, young rich niggas You know somethin'...</td>\n",
       "      <td>9397531.0</td>\n",
       "      <td>2016-08-27</td>\n",
       "      <td>TranslationsPortuguêsРусскийItalianoAzərbaycan...</td>\n",
       "      <td>2.219073</td>\n",
       "      <td>1.856665</td>\n",
       "      <td>2.156433</td>\n",
       "      <td>1.916397</td>\n",
       "      <td>...</td>\n",
       "      <td>0.228606</td>\n",
       "      <td>-0.312699</td>\n",
       "      <td>3.923808</td>\n",
       "      <td>know young rich know somethin aint really neve...</td>\n",
       "      <td>0.029</td>\n",
       "      <td>12.406</td>\n",
       "      <td>25.395</td>\n",
       "      <td>0.029</td>\n",
       "      <td>16.492</td>\n",
       "      <td>45.649</td>\n",
       "    </tr>\n",
       "    <tr>\n",
       "      <th>1</th>\n",
       "      <td>Migos</td>\n",
       "      <td>Versace (Remix)</td>\n",
       "      <td>(Zaytoven) Yeah Oh shit, man, who that is? Sho...</td>\n",
       "      <td>2873846.0</td>\n",
       "      <td>2013-06-22</td>\n",
       "      <td>Versace (Remix) Lyrics[Intro: Drake &amp; Quavo]\\n...</td>\n",
       "      <td>0.020273</td>\n",
       "      <td>0.842441</td>\n",
       "      <td>0.012413</td>\n",
       "      <td>0.783950</td>\n",
       "      <td>...</td>\n",
       "      <td>0.079310</td>\n",
       "      <td>1.192843</td>\n",
       "      <td>0.729994</td>\n",
       "      <td>zaytoven shit man shoutout migos shoutout zayt...</td>\n",
       "      <td>15.295</td>\n",
       "      <td>66.114</td>\n",
       "      <td>0.040</td>\n",
       "      <td>0.040</td>\n",
       "      <td>0.040</td>\n",
       "      <td>18.471</td>\n",
       "    </tr>\n",
       "    <tr>\n",
       "      <th>2</th>\n",
       "      <td>Migos</td>\n",
       "      <td>T-Shirt</td>\n",
       "      <td>Nard &amp; B TrenchWerk  (Ayy) Mama told me (Ayy) ...</td>\n",
       "      <td>2771927.0</td>\n",
       "      <td>2017-01-06</td>\n",
       "      <td>TranslationsPortuguêsT-Shirt Lyrics[Intro]\\nNa...</td>\n",
       "      <td>-1.138906</td>\n",
       "      <td>-0.539441</td>\n",
       "      <td>-1.025744</td>\n",
       "      <td>-0.550720</td>\n",
       "      <td>...</td>\n",
       "      <td>-0.443064</td>\n",
       "      <td>1.090800</td>\n",
       "      <td>0.680097</td>\n",
       "      <td>nard b trenchwerk mama told sell work mama sev...</td>\n",
       "      <td>0.054</td>\n",
       "      <td>56.796</td>\n",
       "      <td>0.054</td>\n",
       "      <td>0.054</td>\n",
       "      <td>0.054</td>\n",
       "      <td>42.987</td>\n",
       "    </tr>\n",
       "    <tr>\n",
       "      <th>3</th>\n",
       "      <td>Migos</td>\n",
       "      <td>Slippery</td>\n",
       "      <td>De-de-de-de-de-de-de-de-Deko OG Parker   Pop a...</td>\n",
       "      <td>2049464.0</td>\n",
       "      <td>2017-01-27</td>\n",
       "      <td>Slippery Lyrics[Intro]\\nDe-de-de-de-de-de-de-d...</td>\n",
       "      <td>0.342555</td>\n",
       "      <td>1.324197</td>\n",
       "      <td>0.651857</td>\n",
       "      <td>1.444544</td>\n",
       "      <td>...</td>\n",
       "      <td>-0.736341</td>\n",
       "      <td>1.349142</td>\n",
       "      <td>0.326400</td>\n",
       "      <td>dededededededededeko og parker pop perky start...</td>\n",
       "      <td>0.036</td>\n",
       "      <td>2.510</td>\n",
       "      <td>9.097</td>\n",
       "      <td>0.036</td>\n",
       "      <td>22.490</td>\n",
       "      <td>65.831</td>\n",
       "    </tr>\n",
       "    <tr>\n",
       "      <th>4</th>\n",
       "      <td>Migos</td>\n",
       "      <td>Walk It Talk It</td>\n",
       "      <td>Yeah, yeah (Deko) Woah, hold on (OG Parker) Uh...</td>\n",
       "      <td>1521048.0</td>\n",
       "      <td>2018-01-26</td>\n",
       "      <td>TranslationsMigos - Walk It Talk It ft. Drake ...</td>\n",
       "      <td>1.896790</td>\n",
       "      <td>0.259261</td>\n",
       "      <td>2.179001</td>\n",
       "      <td>0.285134</td>\n",
       "      <td>...</td>\n",
       "      <td>-0.439127</td>\n",
       "      <td>-1.676754</td>\n",
       "      <td>0.067702</td>\n",
       "      <td>deko hold og parker walk like talk walk walk l...</td>\n",
       "      <td>0.034</td>\n",
       "      <td>4.486</td>\n",
       "      <td>0.034</td>\n",
       "      <td>0.034</td>\n",
       "      <td>86.868</td>\n",
       "      <td>8.543</td>\n",
       "    </tr>\n",
       "  </tbody>\n",
       "</table>\n",
       "<p>5 rows × 23 columns</p>\n",
       "</div>"
      ],
      "text/plain": [
       "  artist            title                                             lyrics  \\\n",
       "0  Migos   Bad and Boujee  You know, young rich niggas You know somethin'...   \n",
       "1  Migos  Versace (Remix)  (Zaytoven) Yeah Oh shit, man, who that is? Sho...   \n",
       "2  Migos          T-Shirt  Nard & B TrenchWerk  (Ayy) Mama told me (Ayy) ...   \n",
       "3  Migos         Slippery  De-de-de-de-de-de-de-de-Deko OG Parker   Pop a...   \n",
       "4  Migos  Walk It Talk It  Yeah, yeah (Deko) Woah, hold on (OG Parker) Uh...   \n",
       "\n",
       "   page_views release_date                                    original_lyrics  \\\n",
       "0   9397531.0   2016-08-27  TranslationsPortuguêsРусскийItalianoAzərbaycan...   \n",
       "1   2873846.0   2013-06-22  Versace (Remix) Lyrics[Intro: Drake & Quavo]\\n...   \n",
       "2   2771927.0   2017-01-06  TranslationsPortuguêsT-Shirt Lyrics[Intro]\\nNa...   \n",
       "3   2049464.0   2017-01-27  Slippery Lyrics[Intro]\\nDe-de-de-de-de-de-de-d...   \n",
       "4   1521048.0   2018-01-26  TranslationsMigos - Walk It Talk It ft. Drake ...   \n",
       "\n",
       "   len_lyrics_standardized  len_unique_lyrics_standardized  \\\n",
       "0                 2.219073                        1.856665   \n",
       "1                 0.020273                        0.842441   \n",
       "2                -1.138906                       -0.539441   \n",
       "3                 0.342555                        1.324197   \n",
       "4                 1.896790                        0.259261   \n",
       "\n",
       "   without_stop_words_standardized  unique_without_stop_words_standardized  \\\n",
       "0                         2.156433                                1.916397   \n",
       "1                         0.012413                                0.783950   \n",
       "2                        -1.025744                               -0.550720   \n",
       "3                         0.651857                                1.444544   \n",
       "4                         2.179001                                0.285134   \n",
       "\n",
       "   ...  stop_word_ratio_standardized  unique_word_per_word_standardized  \\\n",
       "0  ...                      0.228606                          -0.312699   \n",
       "1  ...                      0.079310                           1.192843   \n",
       "2  ...                     -0.443064                           1.090800   \n",
       "3  ...                     -0.736341                           1.349142   \n",
       "4  ...                     -0.439127                          -1.676754   \n",
       "\n",
       "   page_views_standardized                                        clean_songs  \\\n",
       "0                 3.923808  know young rich know somethin aint really neve...   \n",
       "1                 0.729994  zaytoven shit man shoutout migos shoutout zayt...   \n",
       "2                 0.680097  nard b trenchwerk mama told sell work mama sev...   \n",
       "3                 0.326400  dededededededededeko og parker pop perky start...   \n",
       "4                 0.067702  deko hold og parker walk like talk walk walk l...   \n",
       "\n",
       "   Topic_0  Topic_1 Topic_2  Topic_3  Topic_4  Topic_5  \n",
       "0    0.029   12.406  25.395    0.029   16.492   45.649  \n",
       "1   15.295   66.114   0.040    0.040    0.040   18.471  \n",
       "2    0.054   56.796   0.054    0.054    0.054   42.987  \n",
       "3    0.036    2.510   9.097    0.036   22.490   65.831  \n",
       "4    0.034    4.486   0.034    0.034   86.868    8.543  \n",
       "\n",
       "[5 rows x 23 columns]"
      ]
     },
     "execution_count": 39,
     "metadata": {},
     "output_type": "execute_result"
    }
   ],
   "source": [
    "df_artists_final = pd.merge(artist_df, round(df_topics_for_songs*100, 3), left_index=True, right_index=True)\n",
    "df_artists_final = df_artists_final.rename(columns = {0 : \"Topic_0\", 1 : \"Topic_1\", 2 : \"Topic_2\", 3 : \"Topic_3\", 4 : \"Topic_4\", 5 : \"Topic_5\"})\n",
    "df_artists_final.head()"
   ]
  },
  {
   "cell_type": "code",
   "execution_count": 40,
   "id": "1d464001-387a-4f8e-9a20-25a42014a277",
   "metadata": {},
   "outputs": [],
   "source": [
    "save_object(df_artists_final, 'df_artists_final.pkl')"
   ]
  },
  {
   "cell_type": "markdown",
   "id": "fdea960a-28a4-497f-83a3-54a1acdc0263",
   "metadata": {},
   "source": [
    "For preprocesing we decided to keep the observations with missing label, as it resulted in much more robust topics. If we excluded these songs, we believe that the topic models got overlearned."
   ]
  },
  {
   "cell_type": "code",
   "execution_count": 41,
   "id": "87dd1efe-815a-488b-aaa1-57a37c6da3a2",
   "metadata": {},
   "outputs": [],
   "source": [
    "df_artists_final = df_artists_final.dropna(axis=0, subset=['page_views'])"
   ]
  },
  {
   "cell_type": "code",
   "execution_count": 42,
   "id": "a03dac53-0f8b-4274-8811-1dfa6f50cba1",
   "metadata": {},
   "outputs": [
    {
     "data": {
      "text/plain": [
       "(array([344.,  34.,  11.,   6.,   3.,   4.,   0.,   0.,   0.,   1.]),\n",
       " array([5.6600000e+03, 1.6216280e+06, 3.2375960e+06, 4.8535640e+06,\n",
       "        6.4695320e+06, 8.0855000e+06, 9.7014680e+06, 1.1317436e+07,\n",
       "        1.2933404e+07, 1.4549372e+07, 1.6165340e+07]),\n",
       " <BarContainer object of 10 artists>)"
      ]
     },
     "execution_count": 42,
     "metadata": {},
     "output_type": "execute_result"
    },
    {
     "data": {
      "image/png": "[encoded data removed]",
      "text/plain": [
       "<Figure size 432x288 with 1 Axes>"
      ]
     },
     "metadata": {
      "needs_background": "light"
     },
     "output_type": "display_data"
    }
   ],
   "source": [
    "plt.hist(df_artists_final['page_views'])"
   ]
  },
  {
   "cell_type": "code",
   "execution_count": 43,
   "id": "2b9bc542-fab9-45c2-bd96-12dbfb7fad4f",
   "metadata": {},
   "outputs": [
    {
     "data": {
      "text/plain": [
       "(array([158., 139.,  40.,  25.,   8.,   8.,   7.,   4.,   4.,  10.]),\n",
       " array([-0.94027111, -0.44481587,  0.05063938,  0.54609462,  1.04154987,\n",
       "         1.53700511,  2.03246036,  2.5279156 ,  3.02337085,  3.5188261 ,\n",
       "         4.01428134]),\n",
       " <BarContainer object of 10 artists>)"
      ]
     },
     "execution_count": 43,
     "metadata": {},
     "output_type": "execute_result"
    },
    {
     "data": {
      "image/png": "[encoded data removed]",
      "text/plain": [
       "<Figure size 432x288 with 1 Axes>"
      ]
     },
     "metadata": {
      "needs_background": "light"
     },
     "output_type": "display_data"
    }
   ],
   "source": [
    "plt.hist(df_artists_final['page_views_standardized'])"
   ]
  },
  {
   "cell_type": "markdown",
   "id": "b13f8c0f-ebec-4bbe-b7b2-79f929f72cc7",
   "metadata": {},
   "source": [
    "# With standardized page views"
   ]
  },
  {
   "cell_type": "code",
   "execution_count": 44,
   "id": "6e616a26-7af3-4d61-b15e-5ae869ff7327",
   "metadata": {},
   "outputs": [],
   "source": [
    "features = [      'len_lyrics_standardized',\n",
    "           'len_unique_lyrics_standardized',\n",
    "          'without_stop_words_standardized',\n",
    "   'unique_without_stop_words_standardized',\n",
    "            'long_words_count_standardized',\n",
    "                 'adlib_count_standardized',\n",
    "             'avg_word_length_standardized',\n",
    "             'stop_word_ratio_standardized',\n",
    "        'unique_word_per_word_standardized',\n",
    "                                  'Topic_0', \n",
    "                                  'Topic_1', \n",
    "                                  'Topic_2', \n",
    "                                  'Topic_3', \n",
    "                                  'Topic_4', \n",
    "                                  'Topic_5']\n",
    "\n",
    "label = \"page_views_standardized\""
   ]
  },
  {
   "cell_type": "code",
   "execution_count": 45,
   "id": "a8863acf-111b-40fd-a9cf-849856275fd4",
   "metadata": {},
   "outputs": [],
   "source": [
    "import seaborn as sns # statistical data visualization\n",
    "from sklearn.metrics import mean_squared_error,roc_auc_score,precision_score #model evaluation metrics\n",
    "from pyarrow import feather #data import/export\n",
    "import time\n",
    "from sklearn.model_selection import cross_val_score\n",
    "from sklearn import datasets\n",
    "import sklearn.metrics as metrics"
   ]
  },
  {
   "cell_type": "code",
   "execution_count": 46,
   "id": "63c499f7-2a2b-4899-8f0c-8be7f59a2308",
   "metadata": {
    "tags": []
   },
   "outputs": [],
   "source": [
    "from sklearn.model_selection import train_test_split\n",
    "  \n",
    "X = df_artists_final[features]\n",
    "y = df_artists_final[label]\n",
    "  \n",
    "# using the train test split function\n",
    "X_train, X_test, y_train, y_test = train_test_split(X, y,\n",
    "                                   random_state=12, \n",
    "                                   test_size=0.4)"
   ]
  },
  {
   "cell_type": "markdown",
   "id": "fad20232-7501-4ea3-9f2d-39bc28c4a114",
   "metadata": {},
   "source": [
    "## Baseline - linear regression"
   ]
  },
  {
   "cell_type": "code",
   "execution_count": 47,
   "id": "597df04b-9fa3-40b8-b799-1e431a7db0b2",
   "metadata": {},
   "outputs": [],
   "source": [
    "from sklearn.linear_model import LinearRegression\n",
    "\n",
    "#For linear regression the topic variables should not be used, as they are colinear. \n",
    "# To that extent, we remove the 6th topic from the features\n",
    "X = X.drop(\"Topic_5\", axis = 1)\n",
    "\n",
    "model_lr = LinearRegression().fit(X, y)"
   ]
  },
  {
   "cell_type": "code",
   "execution_count": 48,
   "id": "3bbb9150-7195-4141-bc0c-fab4828b670a",
   "metadata": {},
   "outputs": [
    {
     "name": "stdout",
     "output_type": "stream",
     "text": [
      "MAPE Value: 2.645497506373969\n"
     ]
    }
   ],
   "source": [
    "print('MAPE Value:',metrics.mean_absolute_percentage_error(y, model_lr.predict(X)))"
   ]
  },
  {
   "cell_type": "code",
   "execution_count": 49,
   "id": "fd292f5a-d2ba-404a-b51a-4b813157fb03",
   "metadata": {},
   "outputs": [
    {
     "data": {
      "image/png": "[encoded data removed]",
      "text/plain": [
       "<Figure size 432x288 with 1 Axes>"
      ]
     },
     "metadata": {
      "needs_background": "light"
     },
     "output_type": "display_data"
    }
   ],
   "source": [
    "importances = pd.DataFrame(data={\n",
    "    'Attribute': X.columns,\n",
    "    'Importance': model_lr.coef_\n",
    "})\n",
    "importances = importances.sort_values(by='Importance', ascending=False)\n",
    "\n",
    "plt.bar(x=importances['Attribute'], height=importances['Importance'], color='#087E8B')\n",
    "plt.title('Coefficients of the regression', size=20)\n",
    "plt.xticks(rotation='vertical')\n",
    "plt.show()"
   ]
  },
  {
   "cell_type": "code",
   "execution_count": 50,
   "id": "41958fc3-1e46-4506-8486-8fd16acebefa",
   "metadata": {},
   "outputs": [
    {
     "data": {
      "text/plain": [
       "array([-0.50493131, -0.11317048,  0.35311951,  0.32580873,  0.04888122,\n",
       "        0.0996854 , -0.06390531,  0.09906094, -0.11227909,  0.00233663,\n",
       "        0.00365819,  0.0013111 ,  0.00143382,  0.0017279 ])"
      ]
     },
     "execution_count": 50,
     "metadata": {},
     "output_type": "execute_result"
    }
   ],
   "source": [
    "model_lr.coef_"
   ]
  },
  {
   "cell_type": "markdown",
   "id": "b2ffa38c-3067-4493-a235-f22190ed07dd",
   "metadata": {},
   "source": [
    "## Random forest"
   ]
  },
  {
   "cell_type": "code",
   "execution_count": 51,
   "id": "9ca3bb19-4cb2-4eee-b569-650555c67a65",
   "metadata": {},
   "outputs": [],
   "source": [
    "random_grid = {'max_depth': [2, 4, 8, 10, 15, 20],\n",
    "             'max_features': ['auto', 'sqrt'],\n",
    "             'min_samples_leaf': [1, 2, 4],\n",
    "             'min_samples_split': [2, 5, 10],\n",
    "             'n_estimators': [20, 50, 75, 100, 200]}"
   ]
  },
  {
   "cell_type": "code",
   "execution_count": 54,
   "id": "62e40c90-e46f-44e7-b1dc-0c07a8a3391a",
   "metadata": {},
   "outputs": [
    {
     "data": {
      "text/plain": [
       "{'n_estimators': 50,\n",
       " 'min_samples_split': 5,\n",
       " 'min_samples_leaf': 2,\n",
       " 'max_features': 'sqrt',\n",
       " 'max_depth': 2}"
      ]
     },
     "execution_count": 54,
     "metadata": {},
     "output_type": "execute_result"
    }
   ],
   "source": [
    "from sklearn.ensemble import RandomForestRegressor\n",
    "from sklearn.model_selection import RandomizedSearchCV\n",
    "\n",
    "rf = RandomForestRegressor()\n",
    "\n",
    "rf_random = RandomizedSearchCV(estimator = rf, param_distributions = random_grid, n_iter = 200, cv = 3, random_state=12, n_jobs = -1)\n",
    "rf_random.fit(X_train, y_train)\n",
    "\n",
    "rf_random.best_params_"
   ]
  },
  {
   "cell_type": "code",
   "execution_count": 58,
   "id": "ae0ca0b9-5fa7-44f0-8755-9190c8057bea",
   "metadata": {},
   "outputs": [
    {
     "data": {
      "text/html": [
       "<style>#sk-container-id-2 {color: black;background-color: white;}#sk-container-id-2 pre{padding: 0;}#sk-container-id-2 div.sk-toggleable {background-color: white;}#sk-container-id-2 label.sk-toggleable__label {cursor: pointer;display: block;width: 100%;margin-bottom: 0;padding: 0.3em;box-sizing: border-box;text-align: center;}#sk-container-id-2 label.sk-toggleable__label-arrow:before {content: \"▸\";float: left;margin-right: 0.25em;color: #696969;}#sk-container-id-2 label.sk-toggleable__label-arrow:hover:before {color: black;}#sk-container-id-2 div.sk-estimator:hover label.sk-toggleable__label-arrow:before {color: black;}#sk-container-id-2 div.sk-toggleable__content {max-height: 0;max-width: 0;overflow: hidden;text-align: left;background-color: #f0f8ff;}#sk-container-id-2 div.sk-toggleable__content pre {margin: 0.2em;color: black;border-radius: 0.25em;background-color: #f0f8ff;}#sk-container-id-2 input.sk-toggleable__control:checked~div.sk-toggleable__content {max-height: 200px;max-width: 100%;overflow: auto;}#sk-container-id-2 input.sk-toggleable__control:checked~label.sk-toggleable__label-arrow:before {content: \"▾\";}#sk-container-id-2 div.sk-estimator input.sk-toggleable__control:checked~label.sk-toggleable__label {background-color: #d4ebff;}#sk-container-id-2 div.sk-label input.sk-toggleable__control:checked~label.sk-toggleable__label {background-color: #d4ebff;}#sk-container-id-2 input.sk-hidden--visually {border: 0;clip: rect(1px 1px 1px 1px);clip: rect(1px, 1px, 1px, 1px);height: 1px;margin: -1px;overflow: hidden;padding: 0;position: absolute;width: 1px;}#sk-container-id-2 div.sk-estimator {font-family: monospace;background-color: #f0f8ff;border: 1px dotted black;border-radius: 0.25em;box-sizing: border-box;margin-bottom: 0.5em;}#sk-container-id-2 div.sk-estimator:hover {background-color: #d4ebff;}#sk-container-id-2 div.sk-parallel-item::after {content: \"\";width: 100%;border-bottom: 1px solid gray;flex-grow: 1;}#sk-container-id-2 div.sk-label:hover label.sk-toggleable__label {background-color: #d4ebff;}#sk-container-id-2 div.sk-serial::before {content: \"\";position: absolute;border-left: 1px solid gray;box-sizing: border-box;top: 0;bottom: 0;left: 50%;z-index: 0;}#sk-container-id-2 div.sk-serial {display: flex;flex-direction: column;align-items: center;background-color: white;padding-right: 0.2em;padding-left: 0.2em;position: relative;}#sk-container-id-2 div.sk-item {position: relative;z-index: 1;}#sk-container-id-2 div.sk-parallel {display: flex;align-items: stretch;justify-content: center;background-color: white;position: relative;}#sk-container-id-2 div.sk-item::before, #sk-container-id-2 div.sk-parallel-item::before {content: \"\";position: absolute;border-left: 1px solid gray;box-sizing: border-box;top: 0;bottom: 0;left: 50%;z-index: -1;}#sk-container-id-2 div.sk-parallel-item {display: flex;flex-direction: column;z-index: 1;position: relative;background-color: white;}#sk-container-id-2 div.sk-parallel-item:first-child::after {align-self: flex-end;width: 50%;}#sk-container-id-2 div.sk-parallel-item:last-child::after {align-self: flex-start;width: 50%;}#sk-container-id-2 div.sk-parallel-item:only-child::after {width: 0;}#sk-container-id-2 div.sk-dashed-wrapped {border: 1px dashed gray;margin: 0 0.4em 0.5em 0.4em;box-sizing: border-box;padding-bottom: 0.4em;background-color: white;}#sk-container-id-2 div.sk-label label {font-family: monospace;font-weight: bold;display: inline-block;line-height: 1.2em;}#sk-container-id-2 div.sk-label-container {text-align: center;}#sk-container-id-2 div.sk-container {/* jupyter's `normalize.less` sets `[hidden] { display: none; }` but bootstrap.min.css set `[hidden] { display: none !important; }` so we also need the `!important` here to be able to override the default hidden behavior on the sphinx rendered scikit-learn.org. See: https://github.com/scikit-learn/scikit-learn/issues/21755 */display: inline-block !important;position: relative;}#sk-container-id-2 div.sk-text-repr-fallback {display: none;}</style><div id=\"sk-container-id-2\" class=\"sk-top-container\"><div class=\"sk-text-repr-fallback\"><pre>RandomForestRegressor(max_depth=3, max_features=&#x27;sqrt&#x27;, min_samples_leaf=2,\n",
       "                      min_samples_split=5, n_estimators=200, random_state=12)</pre><b>In a Jupyter environment, please rerun this cell to show the HTML representation or trust the notebook. <br />On GitHub, the HTML representation is unable to render, please try loading this page with nbviewer.org.</b></div><div class=\"sk-container\" hidden><div class=\"sk-item\"><div class=\"sk-estimator sk-toggleable\"><input class=\"sk-toggleable__control sk-hidden--visually\" id=\"sk-estimator-id-2\" type=\"checkbox\" checked><label for=\"sk-estimator-id-2\" class=\"sk-toggleable__label sk-toggleable__label-arrow\">RandomForestRegressor</label><div class=\"sk-toggleable__content\"><pre>RandomForestRegressor(max_depth=3, max_features=&#x27;sqrt&#x27;, min_samples_leaf=2,\n",
       "                      min_samples_split=5, n_estimators=200, random_state=12)</pre></div></div></div></div></div>"
      ],
      "text/plain": [
       "RandomForestRegressor(max_depth=3, max_features='sqrt', min_samples_leaf=2,\n",
       "                      min_samples_split=5, n_estimators=200, random_state=12)"
      ]
     },
     "execution_count": 58,
     "metadata": {},
     "output_type": "execute_result"
    }
   ],
   "source": [
    "model_rf = RandomForestRegressor(n_estimators = 200, min_samples_split = 5, min_samples_leaf = 2, max_features = 'sqrt', max_depth = 3, random_state = 12)\n",
    "\n",
    "# Fitting the Random Forest Regression model to the data\n",
    "model_rf.fit(X_train, y_train)"
   ]
  },
  {
   "cell_type": "code",
   "execution_count": 59,
   "id": "12bb17d0-83a8-49c4-afd3-c224ba83cf90",
   "metadata": {},
   "outputs": [
    {
     "name": "stdout",
     "output_type": "stream",
     "text": [
      "\n",
      "R2 score for random forest:  2.0320053192359335\n"
     ]
    }
   ],
   "source": [
    "# Predicting the target values of the test set\n",
    "y_pred = model_rf.predict(X_test)\n",
    "\n",
    "# RMSE (Root Mean Square Error)\n",
    "r2_rf = metrics.mean_absolute_percentage_error(y_test, y_pred)\n",
    "print(\"\\nR2 score for random forest: \", r2_rf)"
   ]
  },
  {
   "cell_type": "code",
   "execution_count": 60,
   "id": "a57e8924-2052-4e2a-846c-e2d1c6fd8093",
   "metadata": {},
   "outputs": [
    {
     "data": {
      "image/png": "[encoded data removed]",
      "text/plain": [
       "<Figure size 432x288 with 1 Axes>"
      ]
     },
     "metadata": {
      "needs_background": "light"
     },
     "output_type": "display_data"
    }
   ],
   "source": [
    "importances = pd.DataFrame(data={\n",
    "    'Attribute': X_train.columns,\n",
    "    'Importance': model_rf.feature_importances_\n",
    "})\n",
    "importances = importances.sort_values(by='Importance', ascending=False)\n",
    "\n",
    "plt.bar(x=importances['Attribute'], height=importances['Importance'], color='#087E8B')\n",
    "plt.title('Feature importances obtained from RF coefficients', size=20)\n",
    "plt.xticks(rotation='vertical')\n",
    "plt.show()"
   ]
  },
  {
   "cell_type": "markdown",
   "id": "d68cd544-41b1-4b87-85c2-d8a00c9860e0",
   "metadata": {},
   "source": [
    "## XGBoost"
   ]
  },
  {
   "cell_type": "code",
   "execution_count": 61,
   "id": "81b5c8fc-eee1-45cb-b289-acc19f2d9dac",
   "metadata": {},
   "outputs": [],
   "source": [
    "random_grid = {'max_depth': [2, 4, 8, 10, 15, 20],\n",
    "             'learning_rate': [0.1, 0.05, 0.01, 0.001],\n",
    "             'n_estimators': [20, 50, 75, 100, 200]}"
   ]
  },
  {
   "cell_type": "code",
   "execution_count": 62,
   "id": "e343060c-c18d-4787-8242-4496349e9ea4",
   "metadata": {},
   "outputs": [
    {
     "data": {
      "text/plain": [
       "{'n_estimators': 200, 'max_depth': 2, 'learning_rate': 0.01}"
      ]
     },
     "execution_count": 62,
     "metadata": {},
     "output_type": "execute_result"
    }
   ],
   "source": [
    "from xgboost import XGBRegressor\n",
    "\n",
    "XGB = XGBRegressor()\n",
    "\n",
    "XGB_random = RandomizedSearchCV(estimator = XGB, param_distributions = random_grid, n_iter = 50, cv = 3, random_state=12, n_jobs = -1)\n",
    "XGB_random.fit(X_train, y_train)\n",
    "\n",
    "XGB_random.best_params_"
   ]
  },
  {
   "cell_type": "code",
   "execution_count": 63,
   "id": "750f106f-5f31-4b7f-baa0-aa80456b88ec",
   "metadata": {},
   "outputs": [
    {
     "name": "stdout",
     "output_type": "stream",
     "text": [
      "[22:09:34] WARNING: /Users/runner/work/xgboost/xgboost/python-package/build/temp.macosx-11.0-arm64-cpython-38/xgboost/src/objective/regression_obj.cu:213: reg:linear is now deprecated in favor of reg:squarederror.\n",
      "MAPE Value: 3.5389583877431967\n"
     ]
    }
   ],
   "source": [
    "RegModel=XGBRegressor(max_depth=2, learning_rate=0.1, n_estimators=200, objective='reg:linear', booster='gbtree')\n",
    "\n",
    "#Creating the model on Training Data\n",
    "XGB=RegModel.fit(X_train,y_train)\n",
    "prediction=XGB.predict(X_test)\n",
    "\n",
    "#Measuring Goodness of fit in Training data\n",
    "print('MAPE Value:',metrics.mean_absolute_percentage_error(y_test, XGB.predict(X_test)))\n"
   ]
  },
  {
   "cell_type": "markdown",
   "id": "0efbb42a-ba90-417e-a0c1-659d5c18e2f7",
   "metadata": {
    "tags": []
   },
   "source": [
    "## Decision Tree"
   ]
  },
  {
   "cell_type": "code",
   "execution_count": 65,
   "id": "1d7aed43-43d1-421f-8140-f8320aecc290",
   "metadata": {
    "tags": []
   },
   "outputs": [
    {
     "data": {
      "text/plain": [
       "{'criterion': 'squared_error', 'max_depth': 4, 'min_samples_split': 32}"
      ]
     },
     "execution_count": 65,
     "metadata": {},
     "output_type": "execute_result"
    }
   ],
   "source": [
    "from sklearn.tree import DecisionTreeRegressor \n",
    "from sklearn.model_selection import GridSearchCV\n",
    "\n",
    "#Decision tree is a model simple enough, to where we can perform the grid search here as it wont take long\n",
    "\n",
    "param_grid = {'criterion' : [\"squared_error\", \"friedman_mse\"],\n",
    "              'max_depth' : [4, 6, 8, 10, 20],\n",
    "              'min_samples_split': [2, 4, 8, 16, 32]}\n",
    "\n",
    "regressor = DecisionTreeRegressor(random_state = 12)\n",
    "\n",
    "DT_grid = GridSearchCV(estimator = regressor, param_grid = param_grid, cv = 3, n_jobs = -1)\n",
    "\n",
    "DT_grid.fit(X_train, y_train)\n",
    "\n",
    "DT_grid.best_params_"
   ]
  },
  {
   "cell_type": "code",
   "execution_count": 66,
   "id": "12bcd81a-c5c0-49d7-b76d-9794db1b5dee",
   "metadata": {},
   "outputs": [
    {
     "data": {
      "text/html": [
       "<style>#sk-container-id-3 {color: black;background-color: white;}#sk-container-id-3 pre{padding: 0;}#sk-container-id-3 div.sk-toggleable {background-color: white;}#sk-container-id-3 label.sk-toggleable__label {cursor: pointer;display: block;width: 100%;margin-bottom: 0;padding: 0.3em;box-sizing: border-box;text-align: center;}#sk-container-id-3 label.sk-toggleable__label-arrow:before {content: \"▸\";float: left;margin-right: 0.25em;color: #696969;}#sk-container-id-3 label.sk-toggleable__label-arrow:hover:before {color: black;}#sk-container-id-3 div.sk-estimator:hover label.sk-toggleable__label-arrow:before {color: black;}#sk-container-id-3 div.sk-toggleable__content {max-height: 0;max-width: 0;overflow: hidden;text-align: left;background-color: #f0f8ff;}#sk-container-id-3 div.sk-toggleable__content pre {margin: 0.2em;color: black;border-radius: 0.25em;background-color: #f0f8ff;}#sk-container-id-3 input.sk-toggleable__control:checked~div.sk-toggleable__content {max-height: 200px;max-width: 100%;overflow: auto;}#sk-container-id-3 input.sk-toggleable__control:checked~label.sk-toggleable__label-arrow:before {content: \"▾\";}#sk-container-id-3 div.sk-estimator input.sk-toggleable__control:checked~label.sk-toggleable__label {background-color: #d4ebff;}#sk-container-id-3 div.sk-label input.sk-toggleable__control:checked~label.sk-toggleable__label {background-color: #d4ebff;}#sk-container-id-3 input.sk-hidden--visually {border: 0;clip: rect(1px 1px 1px 1px);clip: rect(1px, 1px, 1px, 1px);height: 1px;margin: -1px;overflow: hidden;padding: 0;position: absolute;width: 1px;}#sk-container-id-3 div.sk-estimator {font-family: monospace;background-color: #f0f8ff;border: 1px dotted black;border-radius: 0.25em;box-sizing: border-box;margin-bottom: 0.5em;}#sk-container-id-3 div.sk-estimator:hover {background-color: #d4ebff;}#sk-container-id-3 div.sk-parallel-item::after {content: \"\";width: 100%;border-bottom: 1px solid gray;flex-grow: 1;}#sk-container-id-3 div.sk-label:hover label.sk-toggleable__label {background-color: #d4ebff;}#sk-container-id-3 div.sk-serial::before {content: \"\";position: absolute;border-left: 1px solid gray;box-sizing: border-box;top: 0;bottom: 0;left: 50%;z-index: 0;}#sk-container-id-3 div.sk-serial {display: flex;flex-direction: column;align-items: center;background-color: white;padding-right: 0.2em;padding-left: 0.2em;position: relative;}#sk-container-id-3 div.sk-item {position: relative;z-index: 1;}#sk-container-id-3 div.sk-parallel {display: flex;align-items: stretch;justify-content: center;background-color: white;position: relative;}#sk-container-id-3 div.sk-item::before, #sk-container-id-3 div.sk-parallel-item::before {content: \"\";position: absolute;border-left: 1px solid gray;box-sizing: border-box;top: 0;bottom: 0;left: 50%;z-index: -1;}#sk-container-id-3 div.sk-parallel-item {display: flex;flex-direction: column;z-index: 1;position: relative;background-color: white;}#sk-container-id-3 div.sk-parallel-item:first-child::after {align-self: flex-end;width: 50%;}#sk-container-id-3 div.sk-parallel-item:last-child::after {align-self: flex-start;width: 50%;}#sk-container-id-3 div.sk-parallel-item:only-child::after {width: 0;}#sk-container-id-3 div.sk-dashed-wrapped {border: 1px dashed gray;margin: 0 0.4em 0.5em 0.4em;box-sizing: border-box;padding-bottom: 0.4em;background-color: white;}#sk-container-id-3 div.sk-label label {font-family: monospace;font-weight: bold;display: inline-block;line-height: 1.2em;}#sk-container-id-3 div.sk-label-container {text-align: center;}#sk-container-id-3 div.sk-container {/* jupyter's `normalize.less` sets `[hidden] { display: none; }` but bootstrap.min.css set `[hidden] { display: none !important; }` so we also need the `!important` here to be able to override the default hidden behavior on the sphinx rendered scikit-learn.org. See: https://github.com/scikit-learn/scikit-learn/issues/21755 */display: inline-block !important;position: relative;}#sk-container-id-3 div.sk-text-repr-fallback {display: none;}</style><div id=\"sk-container-id-3\" class=\"sk-top-container\"><div class=\"sk-text-repr-fallback\"><pre>DecisionTreeRegressor(max_depth=4, min_samples_split=32, random_state=12)</pre><b>In a Jupyter environment, please rerun this cell to show the HTML representation or trust the notebook. <br />On GitHub, the HTML representation is unable to render, please try loading this page with nbviewer.org.</b></div><div class=\"sk-container\" hidden><div class=\"sk-item\"><div class=\"sk-estimator sk-toggleable\"><input class=\"sk-toggleable__control sk-hidden--visually\" id=\"sk-estimator-id-3\" type=\"checkbox\" checked><label for=\"sk-estimator-id-3\" class=\"sk-toggleable__label sk-toggleable__label-arrow\">DecisionTreeRegressor</label><div class=\"sk-toggleable__content\"><pre>DecisionTreeRegressor(max_depth=4, min_samples_split=32, random_state=12)</pre></div></div></div></div></div>"
      ],
      "text/plain": [
       "DecisionTreeRegressor(max_depth=4, min_samples_split=32, random_state=12)"
      ]
     },
     "execution_count": 66,
     "metadata": {},
     "output_type": "execute_result"
    }
   ],
   "source": [
    "DT_regressor = DecisionTreeRegressor(criterion = 'squared_error', max_depth = 4, min_samples_split = 32, random_state = 12)\n",
    "\n",
    "# fit the regressor with X and Y data\n",
    "DT_regressor.fit(X_train, y_train)"
   ]
  },
  {
   "cell_type": "markdown",
   "id": "49665e4a-fd1c-45e8-83d4-5c0c991aaacf",
   "metadata": {},
   "source": [
    "## Results for standardized page views"
   ]
  },
  {
   "cell_type": "code",
   "execution_count": 67,
   "id": "3589c349-ecb8-4091-91e1-634e2c00a40e",
   "metadata": {},
   "outputs": [
    {
     "name": "stdout",
     "output_type": "stream",
     "text": [
      "MAPE Value: 8.706312142960778\n"
     ]
    }
   ],
   "source": [
    "print('MAPE Value:',metrics.mean_absolute_percentage_error(y_test, DT_regressor.predict(X_test)))"
   ]
  },
  {
   "cell_type": "code",
   "execution_count": 68,
   "id": "f49bfc1a-d6ab-4267-a0ad-a7671990c30b",
   "metadata": {},
   "outputs": [
    {
     "name": "stdout",
     "output_type": "stream",
     "text": [
      "results in MAPE\n",
      "Linear regression:  2.645497506373969\n",
      "Random Forest:  2.0320053192359335\n",
      "XGBoost:  3.5389583877431967\n",
      "Decision Tree:  8.706312142960778\n"
     ]
    }
   ],
   "source": [
    "print('results in MAPE')\n",
    "print('Linear regression: ',metrics.mean_absolute_percentage_error(y, model_lr.predict(X)))\n",
    "print('Random Forest: ',metrics.mean_absolute_percentage_error(y_test, model_rf.predict(X_test)))\n",
    "print('XGBoost: ',metrics.mean_absolute_percentage_error(y_test, XGB.predict(X_test)))\n",
    "print('Decision Tree: ',metrics.mean_absolute_percentage_error(y_test, DT_regressor.predict(X_test)))"
   ]
  },
  {
   "cell_type": "markdown",
   "id": "da3ce5f4-0dde-45ab-a792-7064f696ac4d",
   "metadata": {
    "tags": []
   },
   "source": [
    "# With non-standardized page views"
   ]
  },
  {
   "cell_type": "code",
   "execution_count": 73,
   "id": "0dd93006-86a1-4488-92c5-4a0893218a5f",
   "metadata": {},
   "outputs": [],
   "source": [
    "features = [      'len_lyrics_standardized',\n",
    "           'len_unique_lyrics_standardized',\n",
    "          'without_stop_words_standardized',\n",
    "   'unique_without_stop_words_standardized',\n",
    "            'long_words_count_standardized',\n",
    "                 'adlib_count_standardized',\n",
    "             'avg_word_length_standardized',\n",
    "             'stop_word_ratio_standardized',\n",
    "        'unique_word_per_word_standardized',\n",
    "                                  'Topic_0', \n",
    "                                  'Topic_1', \n",
    "                                  'Topic_2', \n",
    "                                  'Topic_3', \n",
    "                                  'Topic_4', \n",
    "                                  'Topic_5']\n",
    "\n",
    "label_nonst = \"page_views\""
   ]
  },
  {
   "cell_type": "code",
   "execution_count": 74,
   "id": "ee901aa2-b2a2-403e-a1eb-5ea45f298cd6",
   "metadata": {
    "tags": []
   },
   "outputs": [],
   "source": [
    "X_nonst = df_artists_final[features]\n",
    "y_nonst = df_artists_final[label]\n",
    "  \n",
    "# using the train test split function\n",
    "X_train_nonst, X_test_nonst, y_train_nonst, y_test_nonst = train_test_split(X, y,\n",
    "                                   random_state=12, \n",
    "                                   test_size=0.4)"
   ]
  },
  {
   "cell_type": "markdown",
   "id": "e0ac22be-9e2c-4d71-938f-29f0e16656d7",
   "metadata": {},
   "source": [
    "## Baseline - linear regression"
   ]
  },
  {
   "cell_type": "code",
   "execution_count": 75,
   "id": "3f9b54c1-6067-44ac-9434-eb292df190f4",
   "metadata": {},
   "outputs": [],
   "source": [
    "#For linear regression the topic variables should not be used, as they are colinear. \n",
    "# To that extent, we remove the 6th topic from the features\n",
    "try:\n",
    "    X_nonst = X_nonst.drop(\"Topic_5\", axis = 1)\n",
    "except:\n",
    "    print(\"column already removed\")\n",
    "\n",
    "model_lr_nonst = LinearRegression().fit(X_nonst, y_nonst)"
   ]
  },
  {
   "cell_type": "code",
   "execution_count": 76,
   "id": "ae9e8d27-ff40-4d6d-85b0-43905f3e41f6",
   "metadata": {},
   "outputs": [
    {
     "name": "stdout",
     "output_type": "stream",
     "text": [
      "MAPE Value: 2.645497506373969\n"
     ]
    }
   ],
   "source": [
    "y_pred = model_lr_nonst.predict(X_nonst)\n",
    "\n",
    "print('MAPE Value:',metrics.mean_absolute_percentage_error(y, model_lr_nonst.predict(X_nonst)))"
   ]
  },
  {
   "cell_type": "code",
   "execution_count": 77,
   "id": "693acfd5-71d5-46d9-9d21-5d5198744dce",
   "metadata": {},
   "outputs": [
    {
     "data": {
      "text/plain": [
       "array([-0.50493131, -0.11317048,  0.35311951,  0.32580873,  0.04888122,\n",
       "        0.0996854 , -0.06390531,  0.09906094, -0.11227909,  0.00233663,\n",
       "        0.00365819,  0.0013111 ,  0.00143382,  0.0017279 ])"
      ]
     },
     "execution_count": 77,
     "metadata": {},
     "output_type": "execute_result"
    }
   ],
   "source": [
    "model_lr_nonst.coef_"
   ]
  },
  {
   "cell_type": "markdown",
   "id": "43c2e7bc-594f-46ed-be0c-6d71a5f96b0f",
   "metadata": {},
   "source": [
    "## Random forest"
   ]
  },
  {
   "cell_type": "code",
   "execution_count": 79,
   "id": "1b4fdc28-805a-4413-a305-569324bb8167",
   "metadata": {},
   "outputs": [],
   "source": [
    "random_grid = {'max_depth': [2, 4, 8, 10, 15, 20],\n",
    "             'max_features': ['auto', 'sqrt'],\n",
    "             'min_samples_leaf': [1, 2, 4],\n",
    "             'min_samples_split': [2, 5, 10],\n",
    "             'n_estimators': [20, 50, 75, 100, 200]}"
   ]
  },
  {
   "cell_type": "code",
   "execution_count": 80,
   "id": "f9000b32-ae0d-4efc-b1d7-6bb3f7adacfa",
   "metadata": {
    "collapsed": true,
    "jupyter": {
     "outputs_hidden": true
    },
    "tags": []
   },
   "outputs": [
    {
     "name": "stderr",
     "output_type": "stream",
     "text": [
      "/opt/homebrew/Caskroom/miniforge/base/envs/virt/lib/python3.8/site-packages/sklearn/ensemble/_forest.py:416: FutureWarning: `max_features='auto'` has been deprecated in 1.1 and will be removed in 1.3. To keep the past behaviour, explicitly set `max_features=1.0` or remove this parameter as it is also the default value for RandomForestRegressors and ExtraTreesRegressors.\n",
      "  warn(\n",
      "/opt/homebrew/Caskroom/miniforge/base/envs/virt/lib/python3.8/site-packages/sklearn/ensemble/_forest.py:416: FutureWarning: `max_features='auto'` has been deprecated in 1.1 and will be removed in 1.3. To keep the past behaviour, explicitly set `max_features=1.0` or remove this parameter as it is also the default value for RandomForestRegressors and ExtraTreesRegressors.\n",
      "  warn(\n",
      "/opt/homebrew/Caskroom/miniforge/base/envs/virt/lib/python3.8/site-packages/sklearn/ensemble/_forest.py:416: FutureWarning: `max_features='auto'` has been deprecated in 1.1 and will be removed in 1.3. To keep the past behaviour, explicitly set `max_features=1.0` or remove this parameter as it is also the default value for RandomForestRegressors and ExtraTreesRegressors.\n",
      "  warn(\n",
      "/opt/homebrew/Caskroom/miniforge/base/envs/virt/lib/python3.8/site-packages/sklearn/ensemble/_forest.py:416: FutureWarning: `max_features='auto'` has been deprecated in 1.1 and will be removed in 1.3. To keep the past behaviour, explicitly set `max_features=1.0` or remove this parameter as it is also the default value for RandomForestRegressors and ExtraTreesRegressors.\n",
      "  warn(\n",
      "/opt/homebrew/Caskroom/miniforge/base/envs/virt/lib/python3.8/site-packages/sklearn/ensemble/_forest.py:416: FutureWarning: `max_features='auto'` has been deprecated in 1.1 and will be removed in 1.3. To keep the past behaviour, explicitly set `max_features=1.0` or remove this parameter as it is also the default value for RandomForestRegressors and ExtraTreesRegressors.\n",
      "  warn(\n",
      "/opt/homebrew/Caskroom/miniforge/base/envs/virt/lib/python3.8/site-packages/sklearn/ensemble/_forest.py:416: FutureWarning: `max_features='auto'` has been deprecated in 1.1 and will be removed in 1.3. To keep the past behaviour, explicitly set `max_features=1.0` or remove this parameter as it is also the default value for RandomForestRegressors and ExtraTreesRegressors.\n",
      "  warn(\n",
      "/opt/homebrew/Caskroom/miniforge/base/envs/virt/lib/python3.8/site-packages/sklearn/ensemble/_forest.py:416: FutureWarning: `max_features='auto'` has been deprecated in 1.1 and will be removed in 1.3. To keep the past behaviour, explicitly set `max_features=1.0` or remove this parameter as it is also the default value for RandomForestRegressors and ExtraTreesRegressors.\n",
      "  warn(\n",
      "/opt/homebrew/Caskroom/miniforge/base/envs/virt/lib/python3.8/site-packages/sklearn/ensemble/_forest.py:416: FutureWarning: `max_features='auto'` has been deprecated in 1.1 and will be removed in 1.3. To keep the past behaviour, explicitly set `max_features=1.0` or remove this parameter as it is also the default value for RandomForestRegressors and ExtraTreesRegressors.\n",
      "  warn(\n",
      "/opt/homebrew/Caskroom/miniforge/base/envs/virt/lib/python3.8/site-packages/sklearn/ensemble/_forest.py:416: FutureWarning: `max_features='auto'` has been deprecated in 1.1 and will be removed in 1.3. To keep the past behaviour, explicitly set `max_features=1.0` or remove this parameter as it is also the default value for RandomForestRegressors and ExtraTreesRegressors.\n",
      "  warn(\n",
      "/opt/homebrew/Caskroom/miniforge/base/envs/virt/lib/python3.8/site-packages/sklearn/ensemble/_forest.py:416: FutureWarning: `max_features='auto'` has been deprecated in 1.1 and will be removed in 1.3. To keep the past behaviour, explicitly set `max_features=1.0` or remove this parameter as it is also the default value for RandomForestRegressors and ExtraTreesRegressors.\n",
      "  warn(\n",
      "/opt/homebrew/Caskroom/miniforge/base/envs/virt/lib/python3.8/site-packages/sklearn/ensemble/_forest.py:416: FutureWarning: `max_features='auto'` has been deprecated in 1.1 and will be removed in 1.3. To keep the past behaviour, explicitly set `max_features=1.0` or remove this parameter as it is also the default value for RandomForestRegressors and ExtraTreesRegressors.\n",
      "  warn(\n",
      "/opt/homebrew/Caskroom/miniforge/base/envs/virt/lib/python3.8/site-packages/sklearn/ensemble/_forest.py:416: FutureWarning: `max_features='auto'` has been deprecated in 1.1 and will be removed in 1.3. To keep the past behaviour, explicitly set `max_features=1.0` or remove this parameter as it is also the default value for RandomForestRegressors and ExtraTreesRegressors.\n",
      "  warn(\n",
      "/opt/homebrew/Caskroom/miniforge/base/envs/virt/lib/python3.8/site-packages/sklearn/ensemble/_forest.py:416: FutureWarning: `max_features='auto'` has been deprecated in 1.1 and will be removed in 1.3. To keep the past behaviour, explicitly set `max_features=1.0` or remove this parameter as it is also the default value for RandomForestRegressors and ExtraTreesRegressors.\n",
      "  warn(\n",
      "/opt/homebrew/Caskroom/miniforge/base/envs/virt/lib/python3.8/site-packages/sklearn/ensemble/_forest.py:416: FutureWarning: `max_features='auto'` has been deprecated in 1.1 and will be removed in 1.3. To keep the past behaviour, explicitly set `max_features=1.0` or remove this parameter as it is also the default value for RandomForestRegressors and ExtraTreesRegressors.\n",
      "  warn(\n",
      "/opt/homebrew/Caskroom/miniforge/base/envs/virt/lib/python3.8/site-packages/sklearn/ensemble/_forest.py:416: FutureWarning: `max_features='auto'` has been deprecated in 1.1 and will be removed in 1.3. To keep the past behaviour, explicitly set `max_features=1.0` or remove this parameter as it is also the default value for RandomForestRegressors and ExtraTreesRegressors.\n",
      "  warn(\n",
      "/opt/homebrew/Caskroom/miniforge/base/envs/virt/lib/python3.8/site-packages/sklearn/ensemble/_forest.py:416: FutureWarning: `max_features='auto'` has been deprecated in 1.1 and will be removed in 1.3. To keep the past behaviour, explicitly set `max_features=1.0` or remove this parameter as it is also the default value for RandomForestRegressors and ExtraTreesRegressors.\n",
      "  warn(\n",
      "/opt/homebrew/Caskroom/miniforge/base/envs/virt/lib/python3.8/site-packages/sklearn/ensemble/_forest.py:416: FutureWarning: `max_features='auto'` has been deprecated in 1.1 and will be removed in 1.3. To keep the past behaviour, explicitly set `max_features=1.0` or remove this parameter as it is also the default value for RandomForestRegressors and ExtraTreesRegressors.\n",
      "  warn(\n",
      "/opt/homebrew/Caskroom/miniforge/base/envs/virt/lib/python3.8/site-packages/sklearn/ensemble/_forest.py:416: FutureWarning: `max_features='auto'` has been deprecated in 1.1 and will be removed in 1.3. To keep the past behaviour, explicitly set `max_features=1.0` or remove this parameter as it is also the default value for RandomForestRegressors and ExtraTreesRegressors.\n",
      "  warn(\n",
      "/opt/homebrew/Caskroom/miniforge/base/envs/virt/lib/python3.8/site-packages/sklearn/ensemble/_forest.py:416: FutureWarning: `max_features='auto'` has been deprecated in 1.1 and will be removed in 1.3. To keep the past behaviour, explicitly set `max_features=1.0` or remove this parameter as it is also the default value for RandomForestRegressors and ExtraTreesRegressors.\n",
      "  warn(\n",
      "/opt/homebrew/Caskroom/miniforge/base/envs/virt/lib/python3.8/site-packages/sklearn/ensemble/_forest.py:416: FutureWarning: `max_features='auto'` has been deprecated in 1.1 and will be removed in 1.3. To keep the past behaviour, explicitly set `max_features=1.0` or remove this parameter as it is also the default value for RandomForestRegressors and ExtraTreesRegressors.\n",
      "  warn(\n",
      "/opt/homebrew/Caskroom/miniforge/base/envs/virt/lib/python3.8/site-packages/sklearn/ensemble/_forest.py:416: FutureWarning: `max_features='auto'` has been deprecated in 1.1 and will be removed in 1.3. To keep the past behaviour, explicitly set `max_features=1.0` or remove this parameter as it is also the default value for RandomForestRegressors and ExtraTreesRegressors.\n",
      "  warn(\n",
      "/opt/homebrew/Caskroom/miniforge/base/envs/virt/lib/python3.8/site-packages/sklearn/ensemble/_forest.py:416: FutureWarning: `max_features='auto'` has been deprecated in 1.1 and will be removed in 1.3. To keep the past behaviour, explicitly set `max_features=1.0` or remove this parameter as it is also the default value for RandomForestRegressors and ExtraTreesRegressors.\n",
      "  warn(\n",
      "/opt/homebrew/Caskroom/miniforge/base/envs/virt/lib/python3.8/site-packages/sklearn/ensemble/_forest.py:416: FutureWarning: `max_features='auto'` has been deprecated in 1.1 and will be removed in 1.3. To keep the past behaviour, explicitly set `max_features=1.0` or remove this parameter as it is also the default value for RandomForestRegressors and ExtraTreesRegressors.\n",
      "  warn(\n",
      "/opt/homebrew/Caskroom/miniforge/base/envs/virt/lib/python3.8/site-packages/sklearn/ensemble/_forest.py:416: FutureWarning: `max_features='auto'` has been deprecated in 1.1 and will be removed in 1.3. To keep the past behaviour, explicitly set `max_features=1.0` or remove this parameter as it is also the default value for RandomForestRegressors and ExtraTreesRegressors.\n",
      "  warn(\n",
      "/opt/homebrew/Caskroom/miniforge/base/envs/virt/lib/python3.8/site-packages/sklearn/ensemble/_forest.py:416: FutureWarning: `max_features='auto'` has been deprecated in 1.1 and will be removed in 1.3. To keep the past behaviour, explicitly set `max_features=1.0` or remove this parameter as it is also the default value for RandomForestRegressors and ExtraTreesRegressors.\n",
      "  warn(\n",
      "/opt/homebrew/Caskroom/miniforge/base/envs/virt/lib/python3.8/site-packages/sklearn/ensemble/_forest.py:416: FutureWarning: `max_features='auto'` has been deprecated in 1.1 and will be removed in 1.3. To keep the past behaviour, explicitly set `max_features=1.0` or remove this parameter as it is also the default value for RandomForestRegressors and ExtraTreesRegressors.\n",
      "  warn(\n",
      "/opt/homebrew/Caskroom/miniforge/base/envs/virt/lib/python3.8/site-packages/sklearn/ensemble/_forest.py:416: FutureWarning: `max_features='auto'` has been deprecated in 1.1 and will be removed in 1.3. To keep the past behaviour, explicitly set `max_features=1.0` or remove this parameter as it is also the default value for RandomForestRegressors and ExtraTreesRegressors.\n",
      "  warn(\n",
      "/opt/homebrew/Caskroom/miniforge/base/envs/virt/lib/python3.8/site-packages/sklearn/ensemble/_forest.py:416: FutureWarning: `max_features='auto'` has been deprecated in 1.1 and will be removed in 1.3. To keep the past behaviour, explicitly set `max_features=1.0` or remove this parameter as it is also the default value for RandomForestRegressors and ExtraTreesRegressors.\n",
      "  warn(\n",
      "/opt/homebrew/Caskroom/miniforge/base/envs/virt/lib/python3.8/site-packages/sklearn/ensemble/_forest.py:416: FutureWarning: `max_features='auto'` has been deprecated in 1.1 and will be removed in 1.3. To keep the past behaviour, explicitly set `max_features=1.0` or remove this parameter as it is also the default value for RandomForestRegressors and ExtraTreesRegressors.\n",
      "  warn(\n",
      "/opt/homebrew/Caskroom/miniforge/base/envs/virt/lib/python3.8/site-packages/sklearn/ensemble/_forest.py:416: FutureWarning: `max_features='auto'` has been deprecated in 1.1 and will be removed in 1.3. To keep the past behaviour, explicitly set `max_features=1.0` or remove this parameter as it is also the default value for RandomForestRegressors and ExtraTreesRegressors.\n",
      "  warn(\n",
      "/opt/homebrew/Caskroom/miniforge/base/envs/virt/lib/python3.8/site-packages/sklearn/ensemble/_forest.py:416: FutureWarning: `max_features='auto'` has been deprecated in 1.1 and will be removed in 1.3. To keep the past behaviour, explicitly set `max_features=1.0` or remove this parameter as it is also the default value for RandomForestRegressors and ExtraTreesRegressors.\n",
      "  warn(\n",
      "/opt/homebrew/Caskroom/miniforge/base/envs/virt/lib/python3.8/site-packages/sklearn/ensemble/_forest.py:416: FutureWarning: `max_features='auto'` has been deprecated in 1.1 and will be removed in 1.3. To keep the past behaviour, explicitly set `max_features=1.0` or remove this parameter as it is also the default value for RandomForestRegressors and ExtraTreesRegressors.\n",
      "  warn(\n",
      "/opt/homebrew/Caskroom/miniforge/base/envs/virt/lib/python3.8/site-packages/sklearn/ensemble/_forest.py:416: FutureWarning: `max_features='auto'` has been deprecated in 1.1 and will be removed in 1.3. To keep the past behaviour, explicitly set `max_features=1.0` or remove this parameter as it is also the default value for RandomForestRegressors and ExtraTreesRegressors.\n",
      "  warn(\n",
      "/opt/homebrew/Caskroom/miniforge/base/envs/virt/lib/python3.8/site-packages/sklearn/ensemble/_forest.py:416: FutureWarning: `max_features='auto'` has been deprecated in 1.1 and will be removed in 1.3. To keep the past behaviour, explicitly set `max_features=1.0` or remove this parameter as it is also the default value for RandomForestRegressors and ExtraTreesRegressors.\n",
      "  warn(\n",
      "/opt/homebrew/Caskroom/miniforge/base/envs/virt/lib/python3.8/site-packages/sklearn/ensemble/_forest.py:416: FutureWarning: `max_features='auto'` has been deprecated in 1.1 and will be removed in 1.3. To keep the past behaviour, explicitly set `max_features=1.0` or remove this parameter as it is also the default value for RandomForestRegressors and ExtraTreesRegressors.\n",
      "  warn(\n",
      "/opt/homebrew/Caskroom/miniforge/base/envs/virt/lib/python3.8/site-packages/sklearn/ensemble/_forest.py:416: FutureWarning: `max_features='auto'` has been deprecated in 1.1 and will be removed in 1.3. To keep the past behaviour, explicitly set `max_features=1.0` or remove this parameter as it is also the default value for RandomForestRegressors and ExtraTreesRegressors.\n",
      "  warn(\n",
      "/opt/homebrew/Caskroom/miniforge/base/envs/virt/lib/python3.8/site-packages/sklearn/ensemble/_forest.py:416: FutureWarning: `max_features='auto'` has been deprecated in 1.1 and will be removed in 1.3. To keep the past behaviour, explicitly set `max_features=1.0` or remove this parameter as it is also the default value for RandomForestRegressors and ExtraTreesRegressors.\n",
      "  warn(\n",
      "/opt/homebrew/Caskroom/miniforge/base/envs/virt/lib/python3.8/site-packages/sklearn/ensemble/_forest.py:416: FutureWarning: `max_features='auto'` has been deprecated in 1.1 and will be removed in 1.3. To keep the past behaviour, explicitly set `max_features=1.0` or remove this parameter as it is also the default value for RandomForestRegressors and ExtraTreesRegressors.\n",
      "  warn(\n",
      "/opt/homebrew/Caskroom/miniforge/base/envs/virt/lib/python3.8/site-packages/sklearn/ensemble/_forest.py:416: FutureWarning: `max_features='auto'` has been deprecated in 1.1 and will be removed in 1.3. To keep the past behaviour, explicitly set `max_features=1.0` or remove this parameter as it is also the default value for RandomForestRegressors and ExtraTreesRegressors.\n",
      "  warn(\n",
      "/opt/homebrew/Caskroom/miniforge/base/envs/virt/lib/python3.8/site-packages/sklearn/ensemble/_forest.py:416: FutureWarning: `max_features='auto'` has been deprecated in 1.1 and will be removed in 1.3. To keep the past behaviour, explicitly set `max_features=1.0` or remove this parameter as it is also the default value for RandomForestRegressors and ExtraTreesRegressors.\n",
      "  warn(\n",
      "/opt/homebrew/Caskroom/miniforge/base/envs/virt/lib/python3.8/site-packages/sklearn/ensemble/_forest.py:416: FutureWarning: `max_features='auto'` has been deprecated in 1.1 and will be removed in 1.3. To keep the past behaviour, explicitly set `max_features=1.0` or remove this parameter as it is also the default value for RandomForestRegressors and ExtraTreesRegressors.\n",
      "  warn(\n",
      "/opt/homebrew/Caskroom/miniforge/base/envs/virt/lib/python3.8/site-packages/sklearn/ensemble/_forest.py:416: FutureWarning: `max_features='auto'` has been deprecated in 1.1 and will be removed in 1.3. To keep the past behaviour, explicitly set `max_features=1.0` or remove this parameter as it is also the default value for RandomForestRegressors and ExtraTreesRegressors.\n",
      "  warn(\n",
      "/opt/homebrew/Caskroom/miniforge/base/envs/virt/lib/python3.8/site-packages/sklearn/ensemble/_forest.py:416: FutureWarning: `max_features='auto'` has been deprecated in 1.1 and will be removed in 1.3. To keep the past behaviour, explicitly set `max_features=1.0` or remove this parameter as it is also the default value for RandomForestRegressors and ExtraTreesRegressors.\n",
      "  warn(\n",
      "/opt/homebrew/Caskroom/miniforge/base/envs/virt/lib/python3.8/site-packages/sklearn/ensemble/_forest.py:416: FutureWarning: `max_features='auto'` has been deprecated in 1.1 and will be removed in 1.3. To keep the past behaviour, explicitly set `max_features=1.0` or remove this parameter as it is also the default value for RandomForestRegressors and ExtraTreesRegressors.\n",
      "  warn(\n",
      "/opt/homebrew/Caskroom/miniforge/base/envs/virt/lib/python3.8/site-packages/sklearn/ensemble/_forest.py:416: FutureWarning: `max_features='auto'` has been deprecated in 1.1 and will be removed in 1.3. To keep the past behaviour, explicitly set `max_features=1.0` or remove this parameter as it is also the default value for RandomForestRegressors and ExtraTreesRegressors.\n",
      "  warn(\n",
      "/opt/homebrew/Caskroom/miniforge/base/envs/virt/lib/python3.8/site-packages/sklearn/ensemble/_forest.py:416: FutureWarning: `max_features='auto'` has been deprecated in 1.1 and will be removed in 1.3. To keep the past behaviour, explicitly set `max_features=1.0` or remove this parameter as it is also the default value for RandomForestRegressors and ExtraTreesRegressors.\n",
      "  warn(\n",
      "/opt/homebrew/Caskroom/miniforge/base/envs/virt/lib/python3.8/site-packages/sklearn/ensemble/_forest.py:416: FutureWarning: `max_features='auto'` has been deprecated in 1.1 and will be removed in 1.3. To keep the past behaviour, explicitly set `max_features=1.0` or remove this parameter as it is also the default value for RandomForestRegressors and ExtraTreesRegressors.\n",
      "  warn(\n",
      "/opt/homebrew/Caskroom/miniforge/base/envs/virt/lib/python3.8/site-packages/sklearn/ensemble/_forest.py:416: FutureWarning: `max_features='auto'` has been deprecated in 1.1 and will be removed in 1.3. To keep the past behaviour, explicitly set `max_features=1.0` or remove this parameter as it is also the default value for RandomForestRegressors and ExtraTreesRegressors.\n",
      "  warn(\n",
      "/opt/homebrew/Caskroom/miniforge/base/envs/virt/lib/python3.8/site-packages/sklearn/ensemble/_forest.py:416: FutureWarning: `max_features='auto'` has been deprecated in 1.1 and will be removed in 1.3. To keep the past behaviour, explicitly set `max_features=1.0` or remove this parameter as it is also the default value for RandomForestRegressors and ExtraTreesRegressors.\n",
      "  warn(\n",
      "/opt/homebrew/Caskroom/miniforge/base/envs/virt/lib/python3.8/site-packages/sklearn/ensemble/_forest.py:416: FutureWarning: `max_features='auto'` has been deprecated in 1.1 and will be removed in 1.3. To keep the past behaviour, explicitly set `max_features=1.0` or remove this parameter as it is also the default value for RandomForestRegressors and ExtraTreesRegressors.\n",
      "  warn(\n",
      "/opt/homebrew/Caskroom/miniforge/base/envs/virt/lib/python3.8/site-packages/sklearn/ensemble/_forest.py:416: FutureWarning: `max_features='auto'` has been deprecated in 1.1 and will be removed in 1.3. To keep the past behaviour, explicitly set `max_features=1.0` or remove this parameter as it is also the default value for RandomForestRegressors and ExtraTreesRegressors.\n",
      "  warn(\n",
      "/opt/homebrew/Caskroom/miniforge/base/envs/virt/lib/python3.8/site-packages/sklearn/ensemble/_forest.py:416: FutureWarning: `max_features='auto'` has been deprecated in 1.1 and will be removed in 1.3. To keep the past behaviour, explicitly set `max_features=1.0` or remove this parameter as it is also the default value for RandomForestRegressors and ExtraTreesRegressors.\n",
      "  warn(\n",
      "/opt/homebrew/Caskroom/miniforge/base/envs/virt/lib/python3.8/site-packages/sklearn/ensemble/_forest.py:416: FutureWarning: `max_features='auto'` has been deprecated in 1.1 and will be removed in 1.3. To keep the past behaviour, explicitly set `max_features=1.0` or remove this parameter as it is also the default value for RandomForestRegressors and ExtraTreesRegressors.\n",
      "  warn(\n",
      "/opt/homebrew/Caskroom/miniforge/base/envs/virt/lib/python3.8/site-packages/sklearn/ensemble/_forest.py:416: FutureWarning: `max_features='auto'` has been deprecated in 1.1 and will be removed in 1.3. To keep the past behaviour, explicitly set `max_features=1.0` or remove this parameter as it is also the default value for RandomForestRegressors and ExtraTreesRegressors.\n",
      "  warn(\n",
      "/opt/homebrew/Caskroom/miniforge/base/envs/virt/lib/python3.8/site-packages/sklearn/ensemble/_forest.py:416: FutureWarning: `max_features='auto'` has been deprecated in 1.1 and will be removed in 1.3. To keep the past behaviour, explicitly set `max_features=1.0` or remove this parameter as it is also the default value for RandomForestRegressors and ExtraTreesRegressors.\n",
      "  warn(\n",
      "/opt/homebrew/Caskroom/miniforge/base/envs/virt/lib/python3.8/site-packages/sklearn/ensemble/_forest.py:416: FutureWarning: `max_features='auto'` has been deprecated in 1.1 and will be removed in 1.3. To keep the past behaviour, explicitly set `max_features=1.0` or remove this parameter as it is also the default value for RandomForestRegressors and ExtraTreesRegressors.\n",
      "  warn(\n",
      "/opt/homebrew/Caskroom/miniforge/base/envs/virt/lib/python3.8/site-packages/sklearn/ensemble/_forest.py:416: FutureWarning: `max_features='auto'` has been deprecated in 1.1 and will be removed in 1.3. To keep the past behaviour, explicitly set `max_features=1.0` or remove this parameter as it is also the default value for RandomForestRegressors and ExtraTreesRegressors.\n",
      "  warn(\n",
      "/opt/homebrew/Caskroom/miniforge/base/envs/virt/lib/python3.8/site-packages/sklearn/ensemble/_forest.py:416: FutureWarning: `max_features='auto'` has been deprecated in 1.1 and will be removed in 1.3. To keep the past behaviour, explicitly set `max_features=1.0` or remove this parameter as it is also the default value for RandomForestRegressors and ExtraTreesRegressors.\n",
      "  warn(\n",
      "/opt/homebrew/Caskroom/miniforge/base/envs/virt/lib/python3.8/site-packages/sklearn/ensemble/_forest.py:416: FutureWarning: `max_features='auto'` has been deprecated in 1.1 and will be removed in 1.3. To keep the past behaviour, explicitly set `max_features=1.0` or remove this parameter as it is also the default value for RandomForestRegressors and ExtraTreesRegressors.\n",
      "  warn(\n",
      "/opt/homebrew/Caskroom/miniforge/base/envs/virt/lib/python3.8/site-packages/sklearn/ensemble/_forest.py:416: FutureWarning: `max_features='auto'` has been deprecated in 1.1 and will be removed in 1.3. To keep the past behaviour, explicitly set `max_features=1.0` or remove this parameter as it is also the default value for RandomForestRegressors and ExtraTreesRegressors.\n",
      "  warn(\n",
      "/opt/homebrew/Caskroom/miniforge/base/envs/virt/lib/python3.8/site-packages/sklearn/ensemble/_forest.py:416: FutureWarning: `max_features='auto'` has been deprecated in 1.1 and will be removed in 1.3. To keep the past behaviour, explicitly set `max_features=1.0` or remove this parameter as it is also the default value for RandomForestRegressors and ExtraTreesRegressors.\n",
      "  warn(\n",
      "/opt/homebrew/Caskroom/miniforge/base/envs/virt/lib/python3.8/site-packages/sklearn/ensemble/_forest.py:416: FutureWarning: `max_features='auto'` has been deprecated in 1.1 and will be removed in 1.3. To keep the past behaviour, explicitly set `max_features=1.0` or remove this parameter as it is also the default value for RandomForestRegressors and ExtraTreesRegressors.\n",
      "  warn(\n",
      "/opt/homebrew/Caskroom/miniforge/base/envs/virt/lib/python3.8/site-packages/sklearn/ensemble/_forest.py:416: FutureWarning: `max_features='auto'` has been deprecated in 1.1 and will be removed in 1.3. To keep the past behaviour, explicitly set `max_features=1.0` or remove this parameter as it is also the default value for RandomForestRegressors and ExtraTreesRegressors.\n",
      "  warn(\n",
      "/opt/homebrew/Caskroom/miniforge/base/envs/virt/lib/python3.8/site-packages/sklearn/ensemble/_forest.py:416: FutureWarning: `max_features='auto'` has been deprecated in 1.1 and will be removed in 1.3. To keep the past behaviour, explicitly set `max_features=1.0` or remove this parameter as it is also the default value for RandomForestRegressors and ExtraTreesRegressors.\n",
      "  warn(\n",
      "/opt/homebrew/Caskroom/miniforge/base/envs/virt/lib/python3.8/site-packages/sklearn/ensemble/_forest.py:416: FutureWarning: `max_features='auto'` has been deprecated in 1.1 and will be removed in 1.3. To keep the past behaviour, explicitly set `max_features=1.0` or remove this parameter as it is also the default value for RandomForestRegressors and ExtraTreesRegressors.\n",
      "  warn(\n",
      "/opt/homebrew/Caskroom/miniforge/base/envs/virt/lib/python3.8/site-packages/sklearn/ensemble/_forest.py:416: FutureWarning: `max_features='auto'` has been deprecated in 1.1 and will be removed in 1.3. To keep the past behaviour, explicitly set `max_features=1.0` or remove this parameter as it is also the default value for RandomForestRegressors and ExtraTreesRegressors.\n",
      "  warn(\n",
      "/opt/homebrew/Caskroom/miniforge/base/envs/virt/lib/python3.8/site-packages/sklearn/ensemble/_forest.py:416: FutureWarning: `max_features='auto'` has been deprecated in 1.1 and will be removed in 1.3. To keep the past behaviour, explicitly set `max_features=1.0` or remove this parameter as it is also the default value for RandomForestRegressors and ExtraTreesRegressors.\n",
      "  warn(\n",
      "/opt/homebrew/Caskroom/miniforge/base/envs/virt/lib/python3.8/site-packages/sklearn/ensemble/_forest.py:416: FutureWarning: `max_features='auto'` has been deprecated in 1.1 and will be removed in 1.3. To keep the past behaviour, explicitly set `max_features=1.0` or remove this parameter as it is also the default value for RandomForestRegressors and ExtraTreesRegressors.\n",
      "  warn(\n",
      "/opt/homebrew/Caskroom/miniforge/base/envs/virt/lib/python3.8/site-packages/sklearn/ensemble/_forest.py:416: FutureWarning: `max_features='auto'` has been deprecated in 1.1 and will be removed in 1.3. To keep the past behaviour, explicitly set `max_features=1.0` or remove this parameter as it is also the default value for RandomForestRegressors and ExtraTreesRegressors.\n",
      "  warn(\n",
      "/opt/homebrew/Caskroom/miniforge/base/envs/virt/lib/python3.8/site-packages/sklearn/ensemble/_forest.py:416: FutureWarning: `max_features='auto'` has been deprecated in 1.1 and will be removed in 1.3. To keep the past behaviour, explicitly set `max_features=1.0` or remove this parameter as it is also the default value for RandomForestRegressors and ExtraTreesRegressors.\n",
      "  warn(\n",
      "/opt/homebrew/Caskroom/miniforge/base/envs/virt/lib/python3.8/site-packages/sklearn/ensemble/_forest.py:416: FutureWarning: `max_features='auto'` has been deprecated in 1.1 and will be removed in 1.3. To keep the past behaviour, explicitly set `max_features=1.0` or remove this parameter as it is also the default value for RandomForestRegressors and ExtraTreesRegressors.\n",
      "  warn(\n",
      "/opt/homebrew/Caskroom/miniforge/base/envs/virt/lib/python3.8/site-packages/sklearn/ensemble/_forest.py:416: FutureWarning: `max_features='auto'` has been deprecated in 1.1 and will be removed in 1.3. To keep the past behaviour, explicitly set `max_features=1.0` or remove this parameter as it is also the default value for RandomForestRegressors and ExtraTreesRegressors.\n",
      "  warn(\n",
      "/opt/homebrew/Caskroom/miniforge/base/envs/virt/lib/python3.8/site-packages/sklearn/ensemble/_forest.py:416: FutureWarning: `max_features='auto'` has been deprecated in 1.1 and will be removed in 1.3. To keep the past behaviour, explicitly set `max_features=1.0` or remove this parameter as it is also the default value for RandomForestRegressors and ExtraTreesRegressors.\n",
      "  warn(\n",
      "/opt/homebrew/Caskroom/miniforge/base/envs/virt/lib/python3.8/site-packages/sklearn/ensemble/_forest.py:416: FutureWarning: `max_features='auto'` has been deprecated in 1.1 and will be removed in 1.3. To keep the past behaviour, explicitly set `max_features=1.0` or remove this parameter as it is also the default value for RandomForestRegressors and ExtraTreesRegressors.\n",
      "  warn(\n",
      "/opt/homebrew/Caskroom/miniforge/base/envs/virt/lib/python3.8/site-packages/sklearn/ensemble/_forest.py:416: FutureWarning: `max_features='auto'` has been deprecated in 1.1 and will be removed in 1.3. To keep the past behaviour, explicitly set `max_features=1.0` or remove this parameter as it is also the default value for RandomForestRegressors and ExtraTreesRegressors.\n",
      "  warn(\n",
      "/opt/homebrew/Caskroom/miniforge/base/envs/virt/lib/python3.8/site-packages/sklearn/ensemble/_forest.py:416: FutureWarning: `max_features='auto'` has been deprecated in 1.1 and will be removed in 1.3. To keep the past behaviour, explicitly set `max_features=1.0` or remove this parameter as it is also the default value for RandomForestRegressors and ExtraTreesRegressors.\n",
      "  warn(\n",
      "/opt/homebrew/Caskroom/miniforge/base/envs/virt/lib/python3.8/site-packages/sklearn/ensemble/_forest.py:416: FutureWarning: `max_features='auto'` has been deprecated in 1.1 and will be removed in 1.3. To keep the past behaviour, explicitly set `max_features=1.0` or remove this parameter as it is also the default value for RandomForestRegressors and ExtraTreesRegressors.\n",
      "  warn(\n",
      "/opt/homebrew/Caskroom/miniforge/base/envs/virt/lib/python3.8/site-packages/sklearn/ensemble/_forest.py:416: FutureWarning: `max_features='auto'` has been deprecated in 1.1 and will be removed in 1.3. To keep the past behaviour, explicitly set `max_features=1.0` or remove this parameter as it is also the default value for RandomForestRegressors and ExtraTreesRegressors.\n",
      "  warn(\n",
      "/opt/homebrew/Caskroom/miniforge/base/envs/virt/lib/python3.8/site-packages/sklearn/ensemble/_forest.py:416: FutureWarning: `max_features='auto'` has been deprecated in 1.1 and will be removed in 1.3. To keep the past behaviour, explicitly set `max_features=1.0` or remove this parameter as it is also the default value for RandomForestRegressors and ExtraTreesRegressors.\n",
      "  warn(\n",
      "/opt/homebrew/Caskroom/miniforge/base/envs/virt/lib/python3.8/site-packages/sklearn/ensemble/_forest.py:416: FutureWarning: `max_features='auto'` has been deprecated in 1.1 and will be removed in 1.3. To keep the past behaviour, explicitly set `max_features=1.0` or remove this parameter as it is also the default value for RandomForestRegressors and ExtraTreesRegressors.\n",
      "  warn(\n",
      "/opt/homebrew/Caskroom/miniforge/base/envs/virt/lib/python3.8/site-packages/sklearn/ensemble/_forest.py:416: FutureWarning: `max_features='auto'` has been deprecated in 1.1 and will be removed in 1.3. To keep the past behaviour, explicitly set `max_features=1.0` or remove this parameter as it is also the default value for RandomForestRegressors and ExtraTreesRegressors.\n",
      "  warn(\n",
      "/opt/homebrew/Caskroom/miniforge/base/envs/virt/lib/python3.8/site-packages/sklearn/ensemble/_forest.py:416: FutureWarning: `max_features='auto'` has been deprecated in 1.1 and will be removed in 1.3. To keep the past behaviour, explicitly set `max_features=1.0` or remove this parameter as it is also the default value for RandomForestRegressors and ExtraTreesRegressors.\n",
      "  warn(\n",
      "/opt/homebrew/Caskroom/miniforge/base/envs/virt/lib/python3.8/site-packages/sklearn/ensemble/_forest.py:416: FutureWarning: `max_features='auto'` has been deprecated in 1.1 and will be removed in 1.3. To keep the past behaviour, explicitly set `max_features=1.0` or remove this parameter as it is also the default value for RandomForestRegressors and ExtraTreesRegressors.\n",
      "  warn(\n",
      "/opt/homebrew/Caskroom/miniforge/base/envs/virt/lib/python3.8/site-packages/sklearn/ensemble/_forest.py:416: FutureWarning: `max_features='auto'` has been deprecated in 1.1 and will be removed in 1.3. To keep the past behaviour, explicitly set `max_features=1.0` or remove this parameter as it is also the default value for RandomForestRegressors and ExtraTreesRegressors.\n",
      "  warn(\n",
      "/opt/homebrew/Caskroom/miniforge/base/envs/virt/lib/python3.8/site-packages/sklearn/ensemble/_forest.py:416: FutureWarning: `max_features='auto'` has been deprecated in 1.1 and will be removed in 1.3. To keep the past behaviour, explicitly set `max_features=1.0` or remove this parameter as it is also the default value for RandomForestRegressors and ExtraTreesRegressors.\n",
      "  warn(\n",
      "/opt/homebrew/Caskroom/miniforge/base/envs/virt/lib/python3.8/site-packages/sklearn/ensemble/_forest.py:416: FutureWarning: `max_features='auto'` has been deprecated in 1.1 and will be removed in 1.3. To keep the past behaviour, explicitly set `max_features=1.0` or remove this parameter as it is also the default value for RandomForestRegressors and ExtraTreesRegressors.\n",
      "  warn(\n",
      "/opt/homebrew/Caskroom/miniforge/base/envs/virt/lib/python3.8/site-packages/sklearn/ensemble/_forest.py:416: FutureWarning: `max_features='auto'` has been deprecated in 1.1 and will be removed in 1.3. To keep the past behaviour, explicitly set `max_features=1.0` or remove this parameter as it is also the default value for RandomForestRegressors and ExtraTreesRegressors.\n",
      "  warn(\n",
      "/opt/homebrew/Caskroom/miniforge/base/envs/virt/lib/python3.8/site-packages/sklearn/ensemble/_forest.py:416: FutureWarning: `max_features='auto'` has been deprecated in 1.1 and will be removed in 1.3. To keep the past behaviour, explicitly set `max_features=1.0` or remove this parameter as it is also the default value for RandomForestRegressors and ExtraTreesRegressors.\n",
      "  warn(\n",
      "/opt/homebrew/Caskroom/miniforge/base/envs/virt/lib/python3.8/site-packages/sklearn/ensemble/_forest.py:416: FutureWarning: `max_features='auto'` has been deprecated in 1.1 and will be removed in 1.3. To keep the past behaviour, explicitly set `max_features=1.0` or remove this parameter as it is also the default value for RandomForestRegressors and ExtraTreesRegressors.\n",
      "  warn(\n",
      "/opt/homebrew/Caskroom/miniforge/base/envs/virt/lib/python3.8/site-packages/sklearn/ensemble/_forest.py:416: FutureWarning: `max_features='auto'` has been deprecated in 1.1 and will be removed in 1.3. To keep the past behaviour, explicitly set `max_features=1.0` or remove this parameter as it is also the default value for RandomForestRegressors and ExtraTreesRegressors.\n",
      "  warn(\n",
      "/opt/homebrew/Caskroom/miniforge/base/envs/virt/lib/python3.8/site-packages/sklearn/ensemble/_forest.py:416: FutureWarning: `max_features='auto'` has been deprecated in 1.1 and will be removed in 1.3. To keep the past behaviour, explicitly set `max_features=1.0` or remove this parameter as it is also the default value for RandomForestRegressors and ExtraTreesRegressors.\n",
      "  warn(\n",
      "/opt/homebrew/Caskroom/miniforge/base/envs/virt/lib/python3.8/site-packages/sklearn/ensemble/_forest.py:416: FutureWarning: `max_features='auto'` has been deprecated in 1.1 and will be removed in 1.3. To keep the past behaviour, explicitly set `max_features=1.0` or remove this parameter as it is also the default value for RandomForestRegressors and ExtraTreesRegressors.\n",
      "  warn(\n",
      "/opt/homebrew/Caskroom/miniforge/base/envs/virt/lib/python3.8/site-packages/sklearn/ensemble/_forest.py:416: FutureWarning: `max_features='auto'` has been deprecated in 1.1 and will be removed in 1.3. To keep the past behaviour, explicitly set `max_features=1.0` or remove this parameter as it is also the default value for RandomForestRegressors and ExtraTreesRegressors.\n",
      "  warn(\n",
      "/opt/homebrew/Caskroom/miniforge/base/envs/virt/lib/python3.8/site-packages/sklearn/ensemble/_forest.py:416: FutureWarning: `max_features='auto'` has been deprecated in 1.1 and will be removed in 1.3. To keep the past behaviour, explicitly set `max_features=1.0` or remove this parameter as it is also the default value for RandomForestRegressors and ExtraTreesRegressors.\n",
      "  warn(\n",
      "/opt/homebrew/Caskroom/miniforge/base/envs/virt/lib/python3.8/site-packages/sklearn/ensemble/_forest.py:416: FutureWarning: `max_features='auto'` has been deprecated in 1.1 and will be removed in 1.3. To keep the past behaviour, explicitly set `max_features=1.0` or remove this parameter as it is also the default value for RandomForestRegressors and ExtraTreesRegressors.\n",
      "  warn(\n",
      "/opt/homebrew/Caskroom/miniforge/base/envs/virt/lib/python3.8/site-packages/sklearn/ensemble/_forest.py:416: FutureWarning: `max_features='auto'` has been deprecated in 1.1 and will be removed in 1.3. To keep the past behaviour, explicitly set `max_features=1.0` or remove this parameter as it is also the default value for RandomForestRegressors and ExtraTreesRegressors.\n",
      "  warn(\n",
      "/opt/homebrew/Caskroom/miniforge/base/envs/virt/lib/python3.8/site-packages/sklearn/ensemble/_forest.py:416: FutureWarning: `max_features='auto'` has been deprecated in 1.1 and will be removed in 1.3. To keep the past behaviour, explicitly set `max_features=1.0` or remove this parameter as it is also the default value for RandomForestRegressors and ExtraTreesRegressors.\n",
      "  warn(\n",
      "/opt/homebrew/Caskroom/miniforge/base/envs/virt/lib/python3.8/site-packages/sklearn/ensemble/_forest.py:416: FutureWarning: `max_features='auto'` has been deprecated in 1.1 and will be removed in 1.3. To keep the past behaviour, explicitly set `max_features=1.0` or remove this parameter as it is also the default value for RandomForestRegressors and ExtraTreesRegressors.\n",
      "  warn(\n",
      "/opt/homebrew/Caskroom/miniforge/base/envs/virt/lib/python3.8/site-packages/sklearn/ensemble/_forest.py:416: FutureWarning: `max_features='auto'` has been deprecated in 1.1 and will be removed in 1.3. To keep the past behaviour, explicitly set `max_features=1.0` or remove this parameter as it is also the default value for RandomForestRegressors and ExtraTreesRegressors.\n",
      "  warn(\n",
      "/opt/homebrew/Caskroom/miniforge/base/envs/virt/lib/python3.8/site-packages/sklearn/ensemble/_forest.py:416: FutureWarning: `max_features='auto'` has been deprecated in 1.1 and will be removed in 1.3. To keep the past behaviour, explicitly set `max_features=1.0` or remove this parameter as it is also the default value for RandomForestRegressors and ExtraTreesRegressors.\n",
      "  warn(\n",
      "/opt/homebrew/Caskroom/miniforge/base/envs/virt/lib/python3.8/site-packages/sklearn/ensemble/_forest.py:416: FutureWarning: `max_features='auto'` has been deprecated in 1.1 and will be removed in 1.3. To keep the past behaviour, explicitly set `max_features=1.0` or remove this parameter as it is also the default value for RandomForestRegressors and ExtraTreesRegressors.\n",
      "  warn(\n",
      "/opt/homebrew/Caskroom/miniforge/base/envs/virt/lib/python3.8/site-packages/sklearn/ensemble/_forest.py:416: FutureWarning: `max_features='auto'` has been deprecated in 1.1 and will be removed in 1.3. To keep the past behaviour, explicitly set `max_features=1.0` or remove this parameter as it is also the default value for RandomForestRegressors and ExtraTreesRegressors.\n",
      "  warn(\n",
      "/opt/homebrew/Caskroom/miniforge/base/envs/virt/lib/python3.8/site-packages/sklearn/ensemble/_forest.py:416: FutureWarning: `max_features='auto'` has been deprecated in 1.1 and will be removed in 1.3. To keep the past behaviour, explicitly set `max_features=1.0` or remove this parameter as it is also the default value for RandomForestRegressors and ExtraTreesRegressors.\n",
      "  warn(\n",
      "/opt/homebrew/Caskroom/miniforge/base/envs/virt/lib/python3.8/site-packages/sklearn/ensemble/_forest.py:416: FutureWarning: `max_features='auto'` has been deprecated in 1.1 and will be removed in 1.3. To keep the past behaviour, explicitly set `max_features=1.0` or remove this parameter as it is also the default value for RandomForestRegressors and ExtraTreesRegressors.\n",
      "  warn(\n",
      "/opt/homebrew/Caskroom/miniforge/base/envs/virt/lib/python3.8/site-packages/sklearn/ensemble/_forest.py:416: FutureWarning: `max_features='auto'` has been deprecated in 1.1 and will be removed in 1.3. To keep the past behaviour, explicitly set `max_features=1.0` or remove this parameter as it is also the default value for RandomForestRegressors and ExtraTreesRegressors.\n",
      "  warn(\n",
      "/opt/homebrew/Caskroom/miniforge/base/envs/virt/lib/python3.8/site-packages/sklearn/ensemble/_forest.py:416: FutureWarning: `max_features='auto'` has been deprecated in 1.1 and will be removed in 1.3. To keep the past behaviour, explicitly set `max_features=1.0` or remove this parameter as it is also the default value for RandomForestRegressors and ExtraTreesRegressors.\n",
      "  warn(\n",
      "/opt/homebrew/Caskroom/miniforge/base/envs/virt/lib/python3.8/site-packages/sklearn/ensemble/_forest.py:416: FutureWarning: `max_features='auto'` has been deprecated in 1.1 and will be removed in 1.3. To keep the past behaviour, explicitly set `max_features=1.0` or remove this parameter as it is also the default value for RandomForestRegressors and ExtraTreesRegressors.\n",
      "  warn(\n",
      "/opt/homebrew/Caskroom/miniforge/base/envs/virt/lib/python3.8/site-packages/sklearn/ensemble/_forest.py:416: FutureWarning: `max_features='auto'` has been deprecated in 1.1 and will be removed in 1.3. To keep the past behaviour, explicitly set `max_features=1.0` or remove this parameter as it is also the default value for RandomForestRegressors and ExtraTreesRegressors.\n",
      "  warn(\n",
      "/opt/homebrew/Caskroom/miniforge/base/envs/virt/lib/python3.8/site-packages/sklearn/ensemble/_forest.py:416: FutureWarning: `max_features='auto'` has been deprecated in 1.1 and will be removed in 1.3. To keep the past behaviour, explicitly set `max_features=1.0` or remove this parameter as it is also the default value for RandomForestRegressors and ExtraTreesRegressors.\n",
      "  warn(\n",
      "/opt/homebrew/Caskroom/miniforge/base/envs/virt/lib/python3.8/site-packages/sklearn/ensemble/_forest.py:416: FutureWarning: `max_features='auto'` has been deprecated in 1.1 and will be removed in 1.3. To keep the past behaviour, explicitly set `max_features=1.0` or remove this parameter as it is also the default value for RandomForestRegressors and ExtraTreesRegressors.\n",
      "  warn(\n",
      "/opt/homebrew/Caskroom/miniforge/base/envs/virt/lib/python3.8/site-packages/sklearn/ensemble/_forest.py:416: FutureWarning: `max_features='auto'` has been deprecated in 1.1 and will be removed in 1.3. To keep the past behaviour, explicitly set `max_features=1.0` or remove this parameter as it is also the default value for RandomForestRegressors and ExtraTreesRegressors.\n",
      "  warn(\n",
      "/opt/homebrew/Caskroom/miniforge/base/envs/virt/lib/python3.8/site-packages/sklearn/ensemble/_forest.py:416: FutureWarning: `max_features='auto'` has been deprecated in 1.1 and will be removed in 1.3. To keep the past behaviour, explicitly set `max_features=1.0` or remove this parameter as it is also the default value for RandomForestRegressors and ExtraTreesRegressors.\n",
      "  warn(\n",
      "/opt/homebrew/Caskroom/miniforge/base/envs/virt/lib/python3.8/site-packages/sklearn/ensemble/_forest.py:416: FutureWarning: `max_features='auto'` has been deprecated in 1.1 and will be removed in 1.3. To keep the past behaviour, explicitly set `max_features=1.0` or remove this parameter as it is also the default value for RandomForestRegressors and ExtraTreesRegressors.\n",
      "  warn(\n",
      "/opt/homebrew/Caskroom/miniforge/base/envs/virt/lib/python3.8/site-packages/sklearn/ensemble/_forest.py:416: FutureWarning: `max_features='auto'` has been deprecated in 1.1 and will be removed in 1.3. To keep the past behaviour, explicitly set `max_features=1.0` or remove this parameter as it is also the default value for RandomForestRegressors and ExtraTreesRegressors.\n",
      "  warn(\n",
      "/opt/homebrew/Caskroom/miniforge/base/envs/virt/lib/python3.8/site-packages/sklearn/ensemble/_forest.py:416: FutureWarning: `max_features='auto'` has been deprecated in 1.1 and will be removed in 1.3. To keep the past behaviour, explicitly set `max_features=1.0` or remove this parameter as it is also the default value for RandomForestRegressors and ExtraTreesRegressors.\n",
      "  warn(\n",
      "/opt/homebrew/Caskroom/miniforge/base/envs/virt/lib/python3.8/site-packages/sklearn/ensemble/_forest.py:416: FutureWarning: `max_features='auto'` has been deprecated in 1.1 and will be removed in 1.3. To keep the past behaviour, explicitly set `max_features=1.0` or remove this parameter as it is also the default value for RandomForestRegressors and ExtraTreesRegressors.\n",
      "  warn(\n",
      "/opt/homebrew/Caskroom/miniforge/base/envs/virt/lib/python3.8/site-packages/sklearn/ensemble/_forest.py:416: FutureWarning: `max_features='auto'` has been deprecated in 1.1 and will be removed in 1.3. To keep the past behaviour, explicitly set `max_features=1.0` or remove this parameter as it is also the default value for RandomForestRegressors and ExtraTreesRegressors.\n",
      "  warn(\n",
      "/opt/homebrew/Caskroom/miniforge/base/envs/virt/lib/python3.8/site-packages/sklearn/ensemble/_forest.py:416: FutureWarning: `max_features='auto'` has been deprecated in 1.1 and will be removed in 1.3. To keep the past behaviour, explicitly set `max_features=1.0` or remove this parameter as it is also the default value for RandomForestRegressors and ExtraTreesRegressors.\n",
      "  warn(\n",
      "/opt/homebrew/Caskroom/miniforge/base/envs/virt/lib/python3.8/site-packages/sklearn/ensemble/_forest.py:416: FutureWarning: `max_features='auto'` has been deprecated in 1.1 and will be removed in 1.3. To keep the past behaviour, explicitly set `max_features=1.0` or remove this parameter as it is also the default value for RandomForestRegressors and ExtraTreesRegressors.\n",
      "  warn(\n",
      "/opt/homebrew/Caskroom/miniforge/base/envs/virt/lib/python3.8/site-packages/sklearn/ensemble/_forest.py:416: FutureWarning: `max_features='auto'` has been deprecated in 1.1 and will be removed in 1.3. To keep the past behaviour, explicitly set `max_features=1.0` or remove this parameter as it is also the default value for RandomForestRegressors and ExtraTreesRegressors.\n",
      "  warn(\n",
      "/opt/homebrew/Caskroom/miniforge/base/envs/virt/lib/python3.8/site-packages/sklearn/ensemble/_forest.py:416: FutureWarning: `max_features='auto'` has been deprecated in 1.1 and will be removed in 1.3. To keep the past behaviour, explicitly set `max_features=1.0` or remove this parameter as it is also the default value for RandomForestRegressors and ExtraTreesRegressors.\n",
      "  warn(\n",
      "/opt/homebrew/Caskroom/miniforge/base/envs/virt/lib/python3.8/site-packages/sklearn/ensemble/_forest.py:416: FutureWarning: `max_features='auto'` has been deprecated in 1.1 and will be removed in 1.3. To keep the past behaviour, explicitly set `max_features=1.0` or remove this parameter as it is also the default value for RandomForestRegressors and ExtraTreesRegressors.\n",
      "  warn(\n",
      "/opt/homebrew/Caskroom/miniforge/base/envs/virt/lib/python3.8/site-packages/sklearn/ensemble/_forest.py:416: FutureWarning: `max_features='auto'` has been deprecated in 1.1 and will be removed in 1.3. To keep the past behaviour, explicitly set `max_features=1.0` or remove this parameter as it is also the default value for RandomForestRegressors and ExtraTreesRegressors.\n",
      "  warn(\n",
      "/opt/homebrew/Caskroom/miniforge/base/envs/virt/lib/python3.8/site-packages/sklearn/ensemble/_forest.py:416: FutureWarning: `max_features='auto'` has been deprecated in 1.1 and will be removed in 1.3. To keep the past behaviour, explicitly set `max_features=1.0` or remove this parameter as it is also the default value for RandomForestRegressors and ExtraTreesRegressors.\n",
      "  warn(\n",
      "/opt/homebrew/Caskroom/miniforge/base/envs/virt/lib/python3.8/site-packages/sklearn/ensemble/_forest.py:416: FutureWarning: `max_features='auto'` has been deprecated in 1.1 and will be removed in 1.3. To keep the past behaviour, explicitly set `max_features=1.0` or remove this parameter as it is also the default value for RandomForestRegressors and ExtraTreesRegressors.\n",
      "  warn(\n",
      "/opt/homebrew/Caskroom/miniforge/base/envs/virt/lib/python3.8/site-packages/sklearn/ensemble/_forest.py:416: FutureWarning: `max_features='auto'` has been deprecated in 1.1 and will be removed in 1.3. To keep the past behaviour, explicitly set `max_features=1.0` or remove this parameter as it is also the default value for RandomForestRegressors and ExtraTreesRegressors.\n",
      "  warn(\n"
     ]
    },
    {
     "data": {
      "text/plain": [
       "{'n_estimators': 20,\n",
       " 'min_samples_split': 2,\n",
       " 'min_samples_leaf': 1,\n",
       " 'max_features': 'sqrt',\n",
       " 'max_depth': 10}"
      ]
     },
     "execution_count": 80,
     "metadata": {},
     "output_type": "execute_result"
    }
   ],
   "source": [
    "rf_nonst = RandomForestRegressor()\n",
    "\n",
    "rf_random = RandomizedSearchCV(estimator = rf_nonst, param_distributions = random_grid, n_iter = 150, cv = 3, random_state=12, n_jobs = -1)\n",
    "\n",
    "rf_random.fit(X_train_nonst, y_train_nonst)\n",
    "\n",
    "rf_random.best_params_"
   ]
  },
  {
   "cell_type": "code",
   "execution_count": 81,
   "id": "c613abcd-10c3-4f66-ac5d-e95af51418a5",
   "metadata": {},
   "outputs": [
    {
     "data": {
      "text/html": [
       "<style>#sk-container-id-4 {color: black;background-color: white;}#sk-container-id-4 pre{padding: 0;}#sk-container-id-4 div.sk-toggleable {background-color: white;}#sk-container-id-4 label.sk-toggleable__label {cursor: pointer;display: block;width: 100%;margin-bottom: 0;padding: 0.3em;box-sizing: border-box;text-align: center;}#sk-container-id-4 label.sk-toggleable__label-arrow:before {content: \"▸\";float: left;margin-right: 0.25em;color: #696969;}#sk-container-id-4 label.sk-toggleable__label-arrow:hover:before {color: black;}#sk-container-id-4 div.sk-estimator:hover label.sk-toggleable__label-arrow:before {color: black;}#sk-container-id-4 div.sk-toggleable__content {max-height: 0;max-width: 0;overflow: hidden;text-align: left;background-color: #f0f8ff;}#sk-container-id-4 div.sk-toggleable__content pre {margin: 0.2em;color: black;border-radius: 0.25em;background-color: #f0f8ff;}#sk-container-id-4 input.sk-toggleable__control:checked~div.sk-toggleable__content {max-height: 200px;max-width: 100%;overflow: auto;}#sk-container-id-4 input.sk-toggleable__control:checked~label.sk-toggleable__label-arrow:before {content: \"▾\";}#sk-container-id-4 div.sk-estimator input.sk-toggleable__control:checked~label.sk-toggleable__label {background-color: #d4ebff;}#sk-container-id-4 div.sk-label input.sk-toggleable__control:checked~label.sk-toggleable__label {background-color: #d4ebff;}#sk-container-id-4 input.sk-hidden--visually {border: 0;clip: rect(1px 1px 1px 1px);clip: rect(1px, 1px, 1px, 1px);height: 1px;margin: -1px;overflow: hidden;padding: 0;position: absolute;width: 1px;}#sk-container-id-4 div.sk-estimator {font-family: monospace;background-color: #f0f8ff;border: 1px dotted black;border-radius: 0.25em;box-sizing: border-box;margin-bottom: 0.5em;}#sk-container-id-4 div.sk-estimator:hover {background-color: #d4ebff;}#sk-container-id-4 div.sk-parallel-item::after {content: \"\";width: 100%;border-bottom: 1px solid gray;flex-grow: 1;}#sk-container-id-4 div.sk-label:hover label.sk-toggleable__label {background-color: #d4ebff;}#sk-container-id-4 div.sk-serial::before {content: \"\";position: absolute;border-left: 1px solid gray;box-sizing: border-box;top: 0;bottom: 0;left: 50%;z-index: 0;}#sk-container-id-4 div.sk-serial {display: flex;flex-direction: column;align-items: center;background-color: white;padding-right: 0.2em;padding-left: 0.2em;position: relative;}#sk-container-id-4 div.sk-item {position: relative;z-index: 1;}#sk-container-id-4 div.sk-parallel {display: flex;align-items: stretch;justify-content: center;background-color: white;position: relative;}#sk-container-id-4 div.sk-item::before, #sk-container-id-4 div.sk-parallel-item::before {content: \"\";position: absolute;border-left: 1px solid gray;box-sizing: border-box;top: 0;bottom: 0;left: 50%;z-index: -1;}#sk-container-id-4 div.sk-parallel-item {display: flex;flex-direction: column;z-index: 1;position: relative;background-color: white;}#sk-container-id-4 div.sk-parallel-item:first-child::after {align-self: flex-end;width: 50%;}#sk-container-id-4 div.sk-parallel-item:last-child::after {align-self: flex-start;width: 50%;}#sk-container-id-4 div.sk-parallel-item:only-child::after {width: 0;}#sk-container-id-4 div.sk-dashed-wrapped {border: 1px dashed gray;margin: 0 0.4em 0.5em 0.4em;box-sizing: border-box;padding-bottom: 0.4em;background-color: white;}#sk-container-id-4 div.sk-label label {font-family: monospace;font-weight: bold;display: inline-block;line-height: 1.2em;}#sk-container-id-4 div.sk-label-container {text-align: center;}#sk-container-id-4 div.sk-container {/* jupyter's `normalize.less` sets `[hidden] { display: none; }` but bootstrap.min.css set `[hidden] { display: none !important; }` so we also need the `!important` here to be able to override the default hidden behavior on the sphinx rendered scikit-learn.org. See: https://github.com/scikit-learn/scikit-learn/issues/21755 */display: inline-block !important;position: relative;}#sk-container-id-4 div.sk-text-repr-fallback {display: none;}</style><div id=\"sk-container-id-4\" class=\"sk-top-container\"><div class=\"sk-text-repr-fallback\"><pre>RandomForestRegressor(max_depth=2, max_features=&#x27;sqrt&#x27;, min_samples_leaf=4,\n",
       "                      min_samples_split=10, n_estimators=20, random_state=12)</pre><b>In a Jupyter environment, please rerun this cell to show the HTML representation or trust the notebook. <br />On GitHub, the HTML representation is unable to render, please try loading this page with nbviewer.org.</b></div><div class=\"sk-container\" hidden><div class=\"sk-item\"><div class=\"sk-estimator sk-toggleable\"><input class=\"sk-toggleable__control sk-hidden--visually\" id=\"sk-estimator-id-4\" type=\"checkbox\" checked><label for=\"sk-estimator-id-4\" class=\"sk-toggleable__label sk-toggleable__label-arrow\">RandomForestRegressor</label><div class=\"sk-toggleable__content\"><pre>RandomForestRegressor(max_depth=2, max_features=&#x27;sqrt&#x27;, min_samples_leaf=4,\n",
       "                      min_samples_split=10, n_estimators=20, random_state=12)</pre></div></div></div></div></div>"
      ],
      "text/plain": [
       "RandomForestRegressor(max_depth=2, max_features='sqrt', min_samples_leaf=4,\n",
       "                      min_samples_split=10, n_estimators=20, random_state=12)"
      ]
     },
     "execution_count": 81,
     "metadata": {},
     "output_type": "execute_result"
    }
   ],
   "source": [
    "# Initializing the Random Forest Regression model with 10 decision trees\n",
    "model_rf_nonst = RandomForestRegressor(n_estimators = 20, min_samples_split =10, min_samples_leaf = 4, max_features = 'sqrt', max_depth = 2, random_state = 12)\n",
    "\n",
    "# Fitting the Random Forest Regression model to the data\n",
    "model_rf_nonst.fit(X_train_nonst, y_train_nonst)"
   ]
  },
  {
   "cell_type": "code",
   "execution_count": 83,
   "id": "3264c01b-607a-4676-b4db-43f7d6b0d615",
   "metadata": {},
   "outputs": [
    {
     "name": "stdout",
     "output_type": "stream",
     "text": [
      "\n",
      "R2 score for random forest:  2.5284718248402247\n"
     ]
    }
   ],
   "source": [
    "# Predicting the target values of the test set\n",
    "y_pred = model_rf_nonst.predict(X_test_nonst)\n",
    "\n",
    "# RMSE (Root Mean Square Error)\n",
    "r2_rf = metrics.mean_absolute_percentage_error(y_test_nonst, y_pred)\n",
    "print(\"\\nR2 score for random forest: \", r2_rf)"
   ]
  },
  {
   "cell_type": "markdown",
   "id": "79484787-3d16-454b-87ba-0d31360de118",
   "metadata": {},
   "source": [
    "## XGBoost"
   ]
  },
  {
   "cell_type": "code",
   "execution_count": 84,
   "id": "c6d135de-3cff-4f6b-a92d-38a5e17bdca9",
   "metadata": {},
   "outputs": [],
   "source": [
    "random_grid = {'max_depth': [2, 4, 8, 10, 15, 20],\n",
    "             'learning_rate': [0.1, 0.05, 0.01, 0.001],\n",
    "             'n_estimators': [20, 50, 75, 100, 200]}"
   ]
  },
  {
   "cell_type": "code",
   "execution_count": 85,
   "id": "e2bb2b6d-1418-4d74-b977-e83ee194ac23",
   "metadata": {},
   "outputs": [
    {
     "data": {
      "text/plain": [
       "{'n_estimators': 200, 'max_depth': 2, 'learning_rate': 0.01}"
      ]
     },
     "execution_count": 85,
     "metadata": {},
     "output_type": "execute_result"
    }
   ],
   "source": [
    "from xgboost import XGBRegressor\n",
    "\n",
    "XGB_nonst = XGBRegressor()\n",
    "\n",
    "XGB_random = RandomizedSearchCV(estimator = XGB_nonst, param_distributions = random_grid, n_iter = 50, cv = 3, random_state=12, n_jobs = -1)\n",
    "XGB_random.fit(X_train_nonst, y_train_nonst)\n",
    "\n",
    "XGB_random.best_params_"
   ]
  },
  {
   "cell_type": "code",
   "execution_count": 86,
   "id": "d35e2018-3950-46f7-b94b-86a10da49c9d",
   "metadata": {},
   "outputs": [
    {
     "name": "stdout",
     "output_type": "stream",
     "text": [
      "[22:12:43] WARNING: /Users/runner/work/xgboost/xgboost/python-package/build/temp.macosx-11.0-arm64-cpython-38/xgboost/src/objective/regression_obj.cu:213: reg:linear is now deprecated in favor of reg:squarederror.\n",
      "MAPE Value: 4.572925380104274\n"
     ]
    }
   ],
   "source": [
    "RegModel_nonst=XGBRegressor(max_depth=2, learning_rate=0.01, n_estimators=200, objective='reg:linear', booster='gbtree')\n",
    "\n",
    "#Creating the model on Training Data\n",
    "XGB_nonst=RegModel_nonst.fit(X_train_nonst,y_train_nonst)\n",
    "prediction=XGB_nonst.predict(X_test_nonst)\n",
    "\n",
    "#Measuring Goodness of fit in Training data\n",
    "print('MAPE Value:',metrics.mean_absolute_percentage_error(y_test_nonst, XGB_nonst.predict(X_test_nonst)))\n"
   ]
  },
  {
   "cell_type": "code",
   "execution_count": 87,
   "id": "b9a81af1-2ed3-4d23-8d5e-5313248a29b7",
   "metadata": {},
   "outputs": [
    {
     "data": {
      "image/png": "[encoded data removed]",
      "text/plain": [
       "<Figure size 432x288 with 1 Axes>"
      ]
     },
     "metadata": {
      "needs_background": "light"
     },
     "output_type": "display_data"
    }
   ],
   "source": [
    "importances = pd.DataFrame(data={\n",
    "    'Attribute': X_train_nonst.columns,\n",
    "    'Importance': XGB_nonst.feature_importances_\n",
    "})\n",
    "importances = importances.sort_values(by='Importance', ascending=False)\n",
    "\n",
    "plt.bar(x=importances['Attribute'], height=importances['Importance'], color='#087E8B')\n",
    "plt.title('Feature importances obtained from coefficients', size=20)\n",
    "plt.xticks(rotation='vertical')\n",
    "plt.show()"
   ]
  },
  {
   "cell_type": "markdown",
   "id": "a791ddd3-cbf7-499c-b8c3-ebcbe5086131",
   "metadata": {
    "tags": []
   },
   "source": [
    "## Decision Tree"
   ]
  },
  {
   "cell_type": "code",
   "execution_count": 88,
   "id": "36a21a63-67d1-4b7f-a53c-d3447907693f",
   "metadata": {},
   "outputs": [
    {
     "data": {
      "text/plain": [
       "{'criterion': 'squared_error', 'max_depth': 4, 'min_samples_split': 32}"
      ]
     },
     "execution_count": 88,
     "metadata": {},
     "output_type": "execute_result"
    }
   ],
   "source": [
    "from sklearn.tree import DecisionTreeRegressor \n",
    "\n",
    "param_grid = {'criterion' : [\"squared_error\", \"friedman_mse\"],\n",
    "              'max_depth' : [4, 6, 8, 10, 20],\n",
    "              'min_samples_split': [2, 4, 8, 16, 32]}\n",
    "\n",
    "regressor_nonst = DecisionTreeRegressor(random_state = 12)\n",
    "\n",
    "DT_grid = GridSearchCV(estimator = regressor_nonst, param_grid = param_grid, cv = 3, n_jobs = -1)\n",
    "\n",
    "DT_grid.fit(X_train_nonst, y_train_nonst)\n",
    "\n",
    "DT_grid.best_params_"
   ]
  },
  {
   "cell_type": "code",
   "execution_count": 89,
   "id": "ba8bbcaa-ee9c-4d65-bc6e-4756ce676d9a",
   "metadata": {},
   "outputs": [
    {
     "data": {
      "text/html": [
       "<style>#sk-container-id-5 {color: black;background-color: white;}#sk-container-id-5 pre{padding: 0;}#sk-container-id-5 div.sk-toggleable {background-color: white;}#sk-container-id-5 label.sk-toggleable__label {cursor: pointer;display: block;width: 100%;margin-bottom: 0;padding: 0.3em;box-sizing: border-box;text-align: center;}#sk-container-id-5 label.sk-toggleable__label-arrow:before {content: \"▸\";float: left;margin-right: 0.25em;color: #696969;}#sk-container-id-5 label.sk-toggleable__label-arrow:hover:before {color: black;}#sk-container-id-5 div.sk-estimator:hover label.sk-toggleable__label-arrow:before {color: black;}#sk-container-id-5 div.sk-toggleable__content {max-height: 0;max-width: 0;overflow: hidden;text-align: left;background-color: #f0f8ff;}#sk-container-id-5 div.sk-toggleable__content pre {margin: 0.2em;color: black;border-radius: 0.25em;background-color: #f0f8ff;}#sk-container-id-5 input.sk-toggleable__control:checked~div.sk-toggleable__content {max-height: 200px;max-width: 100%;overflow: auto;}#sk-container-id-5 input.sk-toggleable__control:checked~label.sk-toggleable__label-arrow:before {content: \"▾\";}#sk-container-id-5 div.sk-estimator input.sk-toggleable__control:checked~label.sk-toggleable__label {background-color: #d4ebff;}#sk-container-id-5 div.sk-label input.sk-toggleable__control:checked~label.sk-toggleable__label {background-color: #d4ebff;}#sk-container-id-5 input.sk-hidden--visually {border: 0;clip: rect(1px 1px 1px 1px);clip: rect(1px, 1px, 1px, 1px);height: 1px;margin: -1px;overflow: hidden;padding: 0;position: absolute;width: 1px;}#sk-container-id-5 div.sk-estimator {font-family: monospace;background-color: #f0f8ff;border: 1px dotted black;border-radius: 0.25em;box-sizing: border-box;margin-bottom: 0.5em;}#sk-container-id-5 div.sk-estimator:hover {background-color: #d4ebff;}#sk-container-id-5 div.sk-parallel-item::after {content: \"\";width: 100%;border-bottom: 1px solid gray;flex-grow: 1;}#sk-container-id-5 div.sk-label:hover label.sk-toggleable__label {background-color: #d4ebff;}#sk-container-id-5 div.sk-serial::before {content: \"\";position: absolute;border-left: 1px solid gray;box-sizing: border-box;top: 0;bottom: 0;left: 50%;z-index: 0;}#sk-container-id-5 div.sk-serial {display: flex;flex-direction: column;align-items: center;background-color: white;padding-right: 0.2em;padding-left: 0.2em;position: relative;}#sk-container-id-5 div.sk-item {position: relative;z-index: 1;}#sk-container-id-5 div.sk-parallel {display: flex;align-items: stretch;justify-content: center;background-color: white;position: relative;}#sk-container-id-5 div.sk-item::before, #sk-container-id-5 div.sk-parallel-item::before {content: \"\";position: absolute;border-left: 1px solid gray;box-sizing: border-box;top: 0;bottom: 0;left: 50%;z-index: -1;}#sk-container-id-5 div.sk-parallel-item {display: flex;flex-direction: column;z-index: 1;position: relative;background-color: white;}#sk-container-id-5 div.sk-parallel-item:first-child::after {align-self: flex-end;width: 50%;}#sk-container-id-5 div.sk-parallel-item:last-child::after {align-self: flex-start;width: 50%;}#sk-container-id-5 div.sk-parallel-item:only-child::after {width: 0;}#sk-container-id-5 div.sk-dashed-wrapped {border: 1px dashed gray;margin: 0 0.4em 0.5em 0.4em;box-sizing: border-box;padding-bottom: 0.4em;background-color: white;}#sk-container-id-5 div.sk-label label {font-family: monospace;font-weight: bold;display: inline-block;line-height: 1.2em;}#sk-container-id-5 div.sk-label-container {text-align: center;}#sk-container-id-5 div.sk-container {/* jupyter's `normalize.less` sets `[hidden] { display: none; }` but bootstrap.min.css set `[hidden] { display: none !important; }` so we also need the `!important` here to be able to override the default hidden behavior on the sphinx rendered scikit-learn.org. See: https://github.com/scikit-learn/scikit-learn/issues/21755 */display: inline-block !important;position: relative;}#sk-container-id-5 div.sk-text-repr-fallback {display: none;}</style><div id=\"sk-container-id-5\" class=\"sk-top-container\"><div class=\"sk-text-repr-fallback\"><pre>DecisionTreeRegressor(max_depth=4, min_samples_split=32, random_state=12)</pre><b>In a Jupyter environment, please rerun this cell to show the HTML representation or trust the notebook. <br />On GitHub, the HTML representation is unable to render, please try loading this page with nbviewer.org.</b></div><div class=\"sk-container\" hidden><div class=\"sk-item\"><div class=\"sk-estimator sk-toggleable\"><input class=\"sk-toggleable__control sk-hidden--visually\" id=\"sk-estimator-id-5\" type=\"checkbox\" checked><label for=\"sk-estimator-id-5\" class=\"sk-toggleable__label sk-toggleable__label-arrow\">DecisionTreeRegressor</label><div class=\"sk-toggleable__content\"><pre>DecisionTreeRegressor(max_depth=4, min_samples_split=32, random_state=12)</pre></div></div></div></div></div>"
      ],
      "text/plain": [
       "DecisionTreeRegressor(max_depth=4, min_samples_split=32, random_state=12)"
      ]
     },
     "execution_count": 89,
     "metadata": {},
     "output_type": "execute_result"
    }
   ],
   "source": [
    "DT_regressor_nonst = DecisionTreeRegressor(criterion = 'squared_error', max_depth = 4, min_samples_split = 32, random_state = 12)\n",
    "\n",
    "# fit the regressor with X and Y data\n",
    "DT_regressor_nonst.fit(X_train_nonst, y_train_nonst)"
   ]
  },
  {
   "cell_type": "code",
   "execution_count": 91,
   "id": "532753be-c7b7-4256-be46-638690be09bf",
   "metadata": {},
   "outputs": [
    {
     "name": "stdout",
     "output_type": "stream",
     "text": [
      "MAPE Value: 8.706312142960776\n"
     ]
    }
   ],
   "source": [
    "print('MAPE Value:',metrics.mean_absolute_percentage_error(y_test_nonst, DT_regressor_nonst.predict(X_test_nonst)))"
   ]
  },
  {
   "cell_type": "markdown",
   "id": "581de42d-7b98-4d7e-8c7e-14b15f0ce1d7",
   "metadata": {},
   "source": [
    "## Results for non standardized page views"
   ]
  },
  {
   "cell_type": "code",
   "execution_count": 92,
   "id": "1a9d0c6a-de66-49b7-9b87-a35bb010faae",
   "metadata": {},
   "outputs": [
    {
     "name": "stdout",
     "output_type": "stream",
     "text": [
      "results in MAPE\n",
      "Linear regression:  2.645497506373969\n",
      "Random Forest:  2.5284718248402247\n",
      "XGBoost:  4.572925380104274\n",
      "Decision Tree:  8.706312142960776\n"
     ]
    }
   ],
   "source": [
    "print('results in MAPE')\n",
    "print('Linear regression: ',metrics.mean_absolute_percentage_error(y_nonst, model_lr_nonst.predict(X_nonst)))\n",
    "print('Random Forest: ',metrics.mean_absolute_percentage_error(y_test_nonst, model_rf_nonst.predict(X_test_nonst)))\n",
    "print('XGBoost: ',metrics.mean_absolute_percentage_error(y_test_nonst, XGB_nonst.predict(X_test_nonst)))\n",
    "print('Decision Tree: ',metrics.mean_absolute_percentage_error(y_test_nonst, DT_regressor_nonst.predict(X_test_nonst)))"
   ]
  },
  {
   "cell_type": "markdown",
   "id": "c906e560-e02c-4928-ad91-2b6ff60c650d",
   "metadata": {},
   "source": [
    "## Feature importance comparison between linear and tree based model"
   ]
  },
  {
   "cell_type": "code",
   "execution_count": 94,
   "id": "e5ab5761-ebc6-45f5-93c3-1b1100131f0b",
   "metadata": {
    "tags": []
   },
   "outputs": [
    {
     "data": {
      "image/png": "[encoded data removed]",
      "text/plain": [
       "<Figure size 864x576 with 1 Axes>"
      ]
     },
     "execution_count": 94,
     "metadata": {},
     "output_type": "execute_result"
    },
    {
     "data": {
      "image/png": "[encoded data removed]",
      "text/plain": [
       "<Figure size 864x576 with 1 Axes>"
      ]
     },
     "metadata": {
      "needs_background": "light"
     },
     "output_type": "display_data"
    },
    {
     "data": {
      "image/png": "[encoded data removed]",
      "text/plain": [
       "<Figure size 864x576 with 1 Axes>"
      ]
     },
     "metadata": {
      "needs_background": "light"
     },
     "output_type": "display_data"
    }
   ],
   "source": [
    "# import seaborn as sns\n",
    "def top_10_plot_feature_importance(importance,names,model_type):\n",
    "\n",
    "    #Create arrays from feature importance and feature names\n",
    "    feature_importance = np.array(importance)\n",
    "    feature_names = np.array(names)\n",
    "\n",
    "    #Create a DataFrame using a Dictionary\n",
    "    data={'feature_names':feature_names,'feature_importance':feature_importance}\n",
    "    fi_df = pd.DataFrame(data)\n",
    "\n",
    "    #Sort the DataFrame in order decreasing feature importance\n",
    "    fi_df.sort_values(by=['feature_importance'], ascending=False,inplace=True)\n",
    "\n",
    "    #Set palette color\n",
    "    #blue_palette = sns.color_palette(\"Blues\", as_cmap=True)\n",
    "    #sns.set_palette(blue_palette)\n",
    "    #Define size of bar plot\n",
    "    fig = plt.figure(figsize=(12,8))\n",
    "    #Plot Searborn bar chart\n",
    "    navy_palette = sns.light_palette(\"navy\", reverse=True, n_colors=len(fi_df))\n",
    "    sns.barplot(x=fi_df['feature_importance'], y=fi_df['feature_names'], palette=navy_palette)\n",
    "\n",
    "    #Add chart labels\n",
    "    plt.title('Variable impact on the prediction ' + model_type)\n",
    "    plt.xlabel('Feature coefficient / importance')\n",
    "    plt.ylabel('Feature name')\n",
    "\n",
    "    return fig\n",
    "\n",
    "top_10_plot_feature_importance(model_lr.coef_, X.columns, 'Linear Regression')\n",
    "top_10_plot_feature_importance(model_rf.feature_importances_, X_train.columns, 'Random Forest')"
   ]
  },
  {
   "cell_type": "markdown",
   "id": "7800b1d4-1c5b-4406-ba20-d26913985a75",
   "metadata": {},
   "source": [
    "## Conlcusions\n",
    "\n",
    "The best model is the random forest with standardized label, with the runner up as far as standardized labels go being the linear regression. We believe that we can conclude, that for this problem standardizing the label makes sense, as it coincides with better performance of the models. It also seems to be intuitive, as we can expect that the artists have their own styles, and as such its hard to compare their lyrics between them in order to extract insights into the performance of their songs.\n",
    "\n",
    "We find it interesting, however not extremely suprising that the best models were based on linear regression and random forest. They are both relatively simple models, with the random forest being on the simpler side of the ensamble models. Hence, in an environment with many complex interactions between the variables, an environment most likely not very hospitible to modeling and an environment without many observations in the sample, we can expect those simple models to perform. They are less prone to overfitting, and can still catch most of the variance to be captured in this scenario.\n",
    "\n",
    "We also find it interesting, that a much greater emphasis was put on the topic features in the case of random forest, as compared to the linear regression. We are not sure why this occured. We assume that this might be the case because random forest is able to incorporate the relationships between the variables into the model, while linear regression does not have such an ability. Maybe in the feature importance of the topics in random forest we see the relationships between the topic variables and the other features."
   ]
  }
 ],
 "metadata": {
  "kernelspec": {
   "display_name": "Python 3 (ipykernel)",
   "language": "python",
   "name": "python3"
  },
  "language_info": {
   "codemirror_mode": {
    "name": "ipython",
    "version": 3
   },
   "file_extension": ".py",
   "mimetype": "text/x-python",
   "name": "python",
   "nbconvert_exporter": "python",
   "pygments_lexer": "ipython3",
   "version": "3.8.13"
  }
 },
 "nbformat": 4,
 "nbformat_minor": 5
}
